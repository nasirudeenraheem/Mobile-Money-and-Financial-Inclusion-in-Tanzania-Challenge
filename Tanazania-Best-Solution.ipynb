{
 "cells": [
  {
   "cell_type": "code",
   "execution_count": 1,
   "metadata": {
    "collapsed": false
   },
   "outputs": [
    {
     "name": "stderr",
     "output_type": "stream",
     "text": [
      "C:\\Users\\Raheem Nasiru\\Anaconda3\\lib\\site-packages\\sklearn\\cross_validation.py:44: DeprecationWarning: This module was deprecated in version 0.18 in favor of the model_selection module into which all the refactored classes and functions are moved. Also note that the interface of the new CV iterators are different from that of this module. This module will be removed in 0.20.\n",
      "  \"This module will be removed in 0.20.\", DeprecationWarning)\n"
     ]
    }
   ],
   "source": [
    "import pandas as pd #for data reading and manupulation\n",
    "import numpy as np # for data manupulation\n",
    "import matplotlib.pyplot as plt # for data Visualization\n",
    "import seaborn as sns # for data Visualization\n",
    "%matplotlib inline\n",
    "from sklearn.ensemble import GradientBoostingClassifier, RandomForestClassifier, BaggingClassifier, AdaBoostClassifier\n",
    "from sklearn.cross_validation import train_test_split,cross_val_score, cross_val_predict\n",
    "from xgboost import XGBClassifier\n",
    "from sklearn.linear_model import LogisticRegression\n",
    "from sklearn.naive_bayes import MultinomialNB\n",
    "from sklearn.linear_model import SGDClassifier\n",
    "from sklearn.linear_model import LogisticRegression\n",
    "from sklearn.multiclass import OneVsRestClassifier\n",
    "from sklearn.metrics import hamming_loss\n",
    "from sklearn.feature_extraction.text import TfidfVectorizer"
   ]
  },
  {
   "cell_type": "code",
   "execution_count": 2,
   "metadata": {
    "collapsed": true
   },
   "outputs": [],
   "source": [
    "train = pd.read_csv('Enriched_training_nas.csv')\n",
    "test = pd.read_csv('Enriched_mobile_test_nas.csv')"
   ]
  },
  {
   "cell_type": "code",
   "execution_count": 3,
   "metadata": {
    "collapsed": false
   },
   "outputs": [
    {
     "name": "stderr",
     "output_type": "stream",
     "text": [
      "C:\\Users\\Raheem Nasiru\\Anaconda3\\lib\\site-packages\\IPython\\core\\interactiveshell.py:2717: DtypeWarning: Columns (26,32,33,42,74) have mixed types. Specify dtype option on import or set low_memory=False.\n",
      "  interactivity=interactivity, compiler=compiler, result=result)\n"
     ]
    }
   ],
   "source": [
    "mob = pd.read_csv('mobilemoney_agents_for_upload_win.csv', encoding='latin')"
   ]
  },
  {
   "cell_type": "code",
   "execution_count": 4,
   "metadata": {
    "collapsed": false
   },
   "outputs": [],
   "source": [
    "map_train = pd.read_csv('nas_train')\n",
    "map_tests = pd.read_csv('nas_test')"
   ]
  },
  {
   "cell_type": "code",
   "execution_count": 5,
   "metadata": {
    "collapsed": false
   },
   "outputs": [
    {
     "data": {
      "text/plain": [
       "array(['Arusha', 'Manyara', 'Pwani', 'Shinyanga', 'Kagera', 'Mara',\n",
       "       'Mbeya', 'Dodoma', 'Mwanza', 'Kilimanjaro', 'Tanga', 'Tabora',\n",
       "       'Dar es Salaam', 'Singida', 'Iringa', 'Kigoma', 'Morogoro', 'Lindi',\n",
       "       'Mtwara', 'Ruvuma', 'Rukwa', 'Zanzibar'], dtype=object)"
      ]
     },
     "execution_count": 5,
     "metadata": {},
     "output_type": "execute_result"
    }
   ],
   "source": [
    "map_train['region'].unique()"
   ]
  },
  {
   "cell_type": "code",
   "execution_count": 6,
   "metadata": {
    "collapsed": false
   },
   "outputs": [
    {
     "data": {
      "text/html": [
       "<div>\n",
       "<table border=\"1\" class=\"dataframe\">\n",
       "  <thead>\n",
       "    <tr style=\"text-align: right;\">\n",
       "      <th></th>\n",
       "      <th>OBJECTID</th>\n",
       "      <th>ID</th>\n",
       "      <th>Q1</th>\n",
       "      <th>Q2</th>\n",
       "      <th>Q3</th>\n",
       "      <th>Q4</th>\n",
       "      <th>Q5</th>\n",
       "      <th>Q6</th>\n",
       "      <th>Q7</th>\n",
       "      <th>Q8_1</th>\n",
       "      <th>...</th>\n",
       "      <th>Population to polygon size rating for the country</th>\n",
       "      <th>Apportionment confidence for the country</th>\n",
       "      <th>HasData</th>\n",
       "      <th>2016 Total Population</th>\n",
       "      <th>2016 Purchasing Power: Total</th>\n",
       "      <th>2016 Pop 25+/Edu: Primary</th>\n",
       "      <th>2016 Pop 25+/Edu: Secondary</th>\n",
       "      <th>2016 Pop 25+/Edu: University/Related</th>\n",
       "      <th>x</th>\n",
       "      <th>y</th>\n",
       "    </tr>\n",
       "  </thead>\n",
       "  <tbody>\n",
       "    <tr>\n",
       "      <th>0</th>\n",
       "      <td>1</td>\n",
       "      <td>5086</td>\n",
       "      <td>98</td>\n",
       "      <td>2</td>\n",
       "      <td>3</td>\n",
       "      <td>1</td>\n",
       "      <td>1</td>\n",
       "      <td>2</td>\n",
       "      <td>2</td>\n",
       "      <td>0</td>\n",
       "      <td>...</td>\n",
       "      <td>2.834</td>\n",
       "      <td>2.614</td>\n",
       "      <td>1</td>\n",
       "      <td>4142.0</td>\n",
       "      <td>3.386526e+09</td>\n",
       "      <td>1229.0</td>\n",
       "      <td>111.0</td>\n",
       "      <td>11.0</td>\n",
       "      <td>29.811396</td>\n",
       "      <td>-4.460442</td>\n",
       "    </tr>\n",
       "    <tr>\n",
       "      <th>1</th>\n",
       "      <td>2</td>\n",
       "      <td>1258</td>\n",
       "      <td>40</td>\n",
       "      <td>1</td>\n",
       "      <td>1</td>\n",
       "      <td>3</td>\n",
       "      <td>5</td>\n",
       "      <td>1</td>\n",
       "      <td>1</td>\n",
       "      <td>1</td>\n",
       "      <td>...</td>\n",
       "      <td>2.834</td>\n",
       "      <td>2.614</td>\n",
       "      <td>1</td>\n",
       "      <td>76383.0</td>\n",
       "      <td>1.421899e+11</td>\n",
       "      <td>4664.0</td>\n",
       "      <td>21664.0</td>\n",
       "      <td>1461.0</td>\n",
       "      <td>39.244871</td>\n",
       "      <td>-6.176438</td>\n",
       "    </tr>\n",
       "    <tr>\n",
       "      <th>2</th>\n",
       "      <td>3</td>\n",
       "      <td>331</td>\n",
       "      <td>18</td>\n",
       "      <td>2</td>\n",
       "      <td>4</td>\n",
       "      <td>6</td>\n",
       "      <td>3</td>\n",
       "      <td>2</td>\n",
       "      <td>1</td>\n",
       "      <td>0</td>\n",
       "      <td>...</td>\n",
       "      <td>2.834</td>\n",
       "      <td>2.614</td>\n",
       "      <td>1</td>\n",
       "      <td>109482.0</td>\n",
       "      <td>1.167192e+11</td>\n",
       "      <td>37082.0</td>\n",
       "      <td>4785.0</td>\n",
       "      <td>598.0</td>\n",
       "      <td>37.652798</td>\n",
       "      <td>-6.825702</td>\n",
       "    </tr>\n",
       "    <tr>\n",
       "      <th>3</th>\n",
       "      <td>4</td>\n",
       "      <td>6729</td>\n",
       "      <td>50</td>\n",
       "      <td>1</td>\n",
       "      <td>1</td>\n",
       "      <td>3</td>\n",
       "      <td>1</td>\n",
       "      <td>1</td>\n",
       "      <td>1</td>\n",
       "      <td>0</td>\n",
       "      <td>...</td>\n",
       "      <td>2.834</td>\n",
       "      <td>2.614</td>\n",
       "      <td>1</td>\n",
       "      <td>2111.0</td>\n",
       "      <td>2.794528e+09</td>\n",
       "      <td>569.0</td>\n",
       "      <td>144.0</td>\n",
       "      <td>27.0</td>\n",
       "      <td>35.808307</td>\n",
       "      <td>-3.372049</td>\n",
       "    </tr>\n",
       "    <tr>\n",
       "      <th>4</th>\n",
       "      <td>5</td>\n",
       "      <td>8671</td>\n",
       "      <td>34</td>\n",
       "      <td>1</td>\n",
       "      <td>1</td>\n",
       "      <td>1</td>\n",
       "      <td>1</td>\n",
       "      <td>2</td>\n",
       "      <td>1</td>\n",
       "      <td>0</td>\n",
       "      <td>...</td>\n",
       "      <td>2.834</td>\n",
       "      <td>2.614</td>\n",
       "      <td>0</td>\n",
       "      <td>0.0</td>\n",
       "      <td>0.000000e+00</td>\n",
       "      <td>0.0</td>\n",
       "      <td>0.0</td>\n",
       "      <td>0.0</td>\n",
       "      <td>31.039095</td>\n",
       "      <td>-7.179645</td>\n",
       "    </tr>\n",
       "  </tbody>\n",
       "</table>\n",
       "<p>5 rows × 56 columns</p>\n",
       "</div>"
      ],
      "text/plain": [
       "   OBJECTID    ID  Q1  Q2  Q3  Q4  Q5  Q6  Q7  Q8_1    ...     \\\n",
       "0         1  5086  98   2   3   1   1   2   2     0    ...      \n",
       "1         2  1258  40   1   1   3   5   1   1     1    ...      \n",
       "2         3   331  18   2   4   6   3   2   1     0    ...      \n",
       "3         4  6729  50   1   1   3   1   1   1     0    ...      \n",
       "4         5  8671  34   1   1   1   1   2   1     0    ...      \n",
       "\n",
       "   Population to polygon size rating for the country  \\\n",
       "0                                              2.834   \n",
       "1                                              2.834   \n",
       "2                                              2.834   \n",
       "3                                              2.834   \n",
       "4                                              2.834   \n",
       "\n",
       "   Apportionment confidence for the country  HasData  2016 Total Population  \\\n",
       "0                                     2.614        1                 4142.0   \n",
       "1                                     2.614        1                76383.0   \n",
       "2                                     2.614        1               109482.0   \n",
       "3                                     2.614        1                 2111.0   \n",
       "4                                     2.614        0                    0.0   \n",
       "\n",
       "   2016 Purchasing Power: Total  2016 Pop 25+/Edu: Primary  \\\n",
       "0                  3.386526e+09                     1229.0   \n",
       "1                  1.421899e+11                     4664.0   \n",
       "2                  1.167192e+11                    37082.0   \n",
       "3                  2.794528e+09                      569.0   \n",
       "4                  0.000000e+00                        0.0   \n",
       "\n",
       "   2016 Pop 25+/Edu: Secondary  2016 Pop 25+/Edu: University/Related  \\\n",
       "0                        111.0                                  11.0   \n",
       "1                      21664.0                                1461.0   \n",
       "2                       4785.0                                 598.0   \n",
       "3                        144.0                                  27.0   \n",
       "4                          0.0                                   0.0   \n",
       "\n",
       "           x         y  \n",
       "0  29.811396 -4.460442  \n",
       "1  39.244871 -6.176438  \n",
       "2  37.652798 -6.825702  \n",
       "3  35.808307 -3.372049  \n",
       "4  31.039095 -7.179645  \n",
       "\n",
       "[5 rows x 56 columns]"
      ]
     },
     "execution_count": 6,
     "metadata": {},
     "output_type": "execute_result"
    }
   ],
   "source": [
    "train.head()"
   ]
  },
  {
   "cell_type": "code",
   "execution_count": 7,
   "metadata": {
    "collapsed": false
   },
   "outputs": [
    {
     "data": {
      "text/html": [
       "<div>\n",
       "<table border=\"1\" class=\"dataframe\">\n",
       "  <thead>\n",
       "    <tr style=\"text-align: right;\">\n",
       "      <th></th>\n",
       "      <th>OBJECTID</th>\n",
       "      <th>ID</th>\n",
       "      <th>Q1</th>\n",
       "      <th>Q2</th>\n",
       "      <th>Q3</th>\n",
       "      <th>Q4</th>\n",
       "      <th>Q5</th>\n",
       "      <th>Q6</th>\n",
       "      <th>Q7</th>\n",
       "      <th>Q8_1</th>\n",
       "      <th>...</th>\n",
       "      <th>bufferRadii</th>\n",
       "      <th>aggregationMethod</th>\n",
       "      <th>Population to polygon size rating for the country</th>\n",
       "      <th>Apportionment confidence for the country</th>\n",
       "      <th>HasData</th>\n",
       "      <th>2016 Total Population</th>\n",
       "      <th>2016 Purchasing Power: Total</th>\n",
       "      <th>2016 Total Households</th>\n",
       "      <th>x</th>\n",
       "      <th>y</th>\n",
       "    </tr>\n",
       "  </thead>\n",
       "  <tbody>\n",
       "    <tr>\n",
       "      <th>0</th>\n",
       "      <td>1</td>\n",
       "      <td>3669</td>\n",
       "      <td>36</td>\n",
       "      <td>2</td>\n",
       "      <td>2</td>\n",
       "      <td>3</td>\n",
       "      <td>1</td>\n",
       "      <td>1</td>\n",
       "      <td>1</td>\n",
       "      <td>0</td>\n",
       "      <td>...</td>\n",
       "      <td>1.0</td>\n",
       "      <td>BlockApportionment:TZ.Regions</td>\n",
       "      <td>2.834</td>\n",
       "      <td>2.614</td>\n",
       "      <td>1</td>\n",
       "      <td>170.0</td>\n",
       "      <td>1.867756e+08</td>\n",
       "      <td>41.0</td>\n",
       "      <td>34.672094</td>\n",
       "      <td>-8.907215</td>\n",
       "    </tr>\n",
       "    <tr>\n",
       "      <th>1</th>\n",
       "      <td>2</td>\n",
       "      <td>5223</td>\n",
       "      <td>27</td>\n",
       "      <td>1</td>\n",
       "      <td>1</td>\n",
       "      <td>3</td>\n",
       "      <td>1</td>\n",
       "      <td>2</td>\n",
       "      <td>1</td>\n",
       "      <td>0</td>\n",
       "      <td>...</td>\n",
       "      <td>1.0</td>\n",
       "      <td>BlockApportionment:TZ.Regions</td>\n",
       "      <td>2.834</td>\n",
       "      <td>2.614</td>\n",
       "      <td>1</td>\n",
       "      <td>561.0</td>\n",
       "      <td>6.552594e+08</td>\n",
       "      <td>132.0</td>\n",
       "      <td>35.997953</td>\n",
       "      <td>-8.204943</td>\n",
       "    </tr>\n",
       "    <tr>\n",
       "      <th>2</th>\n",
       "      <td>3</td>\n",
       "      <td>7275</td>\n",
       "      <td>25</td>\n",
       "      <td>2</td>\n",
       "      <td>4</td>\n",
       "      <td>6</td>\n",
       "      <td>5</td>\n",
       "      <td>2</td>\n",
       "      <td>1</td>\n",
       "      <td>0</td>\n",
       "      <td>...</td>\n",
       "      <td>1.0</td>\n",
       "      <td>BlockApportionment:TZ.Regions</td>\n",
       "      <td>2.834</td>\n",
       "      <td>2.614</td>\n",
       "      <td>1</td>\n",
       "      <td>10523.0</td>\n",
       "      <td>9.366909e+09</td>\n",
       "      <td>1776.0</td>\n",
       "      <td>32.407155</td>\n",
       "      <td>-4.100044</td>\n",
       "    </tr>\n",
       "    <tr>\n",
       "      <th>3</th>\n",
       "      <td>4</td>\n",
       "      <td>7459</td>\n",
       "      <td>32</td>\n",
       "      <td>1</td>\n",
       "      <td>1</td>\n",
       "      <td>1</td>\n",
       "      <td>1</td>\n",
       "      <td>2</td>\n",
       "      <td>1</td>\n",
       "      <td>0</td>\n",
       "      <td>...</td>\n",
       "      <td>1.0</td>\n",
       "      <td>BlockApportionment:TZ.Regions</td>\n",
       "      <td>2.834</td>\n",
       "      <td>2.614</td>\n",
       "      <td>0</td>\n",
       "      <td>0.0</td>\n",
       "      <td>0.000000e+00</td>\n",
       "      <td>0.0</td>\n",
       "      <td>32.242549</td>\n",
       "      <td>-4.054934</td>\n",
       "    </tr>\n",
       "    <tr>\n",
       "      <th>4</th>\n",
       "      <td>5</td>\n",
       "      <td>3547</td>\n",
       "      <td>39</td>\n",
       "      <td>1</td>\n",
       "      <td>1</td>\n",
       "      <td>6</td>\n",
       "      <td>1</td>\n",
       "      <td>2</td>\n",
       "      <td>1</td>\n",
       "      <td>0</td>\n",
       "      <td>...</td>\n",
       "      <td>1.0</td>\n",
       "      <td>BlockApportionment:TZ.Regions</td>\n",
       "      <td>2.834</td>\n",
       "      <td>2.614</td>\n",
       "      <td>0</td>\n",
       "      <td>0.0</td>\n",
       "      <td>0.000000e+00</td>\n",
       "      <td>0.0</td>\n",
       "      <td>31.730506</td>\n",
       "      <td>-2.888644</td>\n",
       "    </tr>\n",
       "  </tbody>\n",
       "</table>\n",
       "<p>5 rows × 49 columns</p>\n",
       "</div>"
      ],
      "text/plain": [
       "   OBJECTID    ID  Q1  Q2  Q3  Q4  Q5  Q6  Q7  Q8_1    ...     bufferRadii  \\\n",
       "0         1  3669  36   2   2   3   1   1   1     0    ...             1.0   \n",
       "1         2  5223  27   1   1   3   1   2   1     0    ...             1.0   \n",
       "2         3  7275  25   2   4   6   5   2   1     0    ...             1.0   \n",
       "3         4  7459  32   1   1   1   1   2   1     0    ...             1.0   \n",
       "4         5  3547  39   1   1   6   1   2   1     0    ...             1.0   \n",
       "\n",
       "               aggregationMethod  \\\n",
       "0  BlockApportionment:TZ.Regions   \n",
       "1  BlockApportionment:TZ.Regions   \n",
       "2  BlockApportionment:TZ.Regions   \n",
       "3  BlockApportionment:TZ.Regions   \n",
       "4  BlockApportionment:TZ.Regions   \n",
       "\n",
       "   Population to polygon size rating for the country  \\\n",
       "0                                              2.834   \n",
       "1                                              2.834   \n",
       "2                                              2.834   \n",
       "3                                              2.834   \n",
       "4                                              2.834   \n",
       "\n",
       "   Apportionment confidence for the country  HasData  2016 Total Population  \\\n",
       "0                                     2.614        1                  170.0   \n",
       "1                                     2.614        1                  561.0   \n",
       "2                                     2.614        1                10523.0   \n",
       "3                                     2.614        0                    0.0   \n",
       "4                                     2.614        0                    0.0   \n",
       "\n",
       "   2016 Purchasing Power: Total  2016 Total Households          x         y  \n",
       "0                  1.867756e+08                   41.0  34.672094 -8.907215  \n",
       "1                  6.552594e+08                  132.0  35.997953 -8.204943  \n",
       "2                  9.366909e+09                 1776.0  32.407155 -4.100044  \n",
       "3                  0.000000e+00                    0.0  32.242549 -4.054934  \n",
       "4                  0.000000e+00                    0.0  31.730506 -2.888644  \n",
       "\n",
       "[5 rows x 49 columns]"
      ]
     },
     "execution_count": 7,
     "metadata": {},
     "output_type": "execute_result"
    }
   ],
   "source": [
    "test.head()"
   ]
  },
  {
   "cell_type": "code",
   "execution_count": 8,
   "metadata": {
    "collapsed": false
   },
   "outputs": [
    {
     "data": {
      "text/plain": [
       "Index(['OBJECTID', 'ID', 'Q1', 'Q2', 'Q3', 'Q4', 'Q5', 'Q6', 'Q7', 'Q8_1',\n",
       "       'Q8_2', 'Q8_3', 'Q8_4', 'Q8_5', 'Q8_6', 'Q8_7', 'Q8_8', 'Q8_9', 'Q8_10',\n",
       "       'Q8_11', 'Q9', 'Q10', 'Q11', 'Q12', 'Q13', 'Q14', 'Q15', 'Q16', 'Q17',\n",
       "       'Q18', 'Q19', 'Latitude', 'Longitude', 'mobile_money', 'savings',\n",
       "       'borrowing', 'insurance', 'mobile_money_classification', 'ID.1',\n",
       "       'sourceCountry', 'ENRICH_FID', 'areaType', 'bufferUnits',\n",
       "       'bufferUnitsAlias', 'bufferRadii', 'aggregationMethod',\n",
       "       'Population to polygon size rating for the country',\n",
       "       'Apportionment confidence for the country', 'HasData',\n",
       "       '2016 Total Population', '2016 Purchasing Power: Total',\n",
       "       '2016 Pop 25+/Edu: Primary', '2016 Pop 25+/Edu: Secondary',\n",
       "       '2016 Pop 25+/Edu: University/Related', 'x', 'y'],\n",
       "      dtype='object')"
      ]
     },
     "execution_count": 8,
     "metadata": {},
     "output_type": "execute_result"
    }
   ],
   "source": [
    "train.columns"
   ]
  },
  {
   "cell_type": "code",
   "execution_count": 9,
   "metadata": {
    "collapsed": false
   },
   "outputs": [
    {
     "data": {
      "text/plain": [
       "Index(['OBJECTID', 'ID', 'Q1', 'Q2', 'Q3', 'Q4', 'Q5', 'Q6', 'Q7', 'Q8_1',\n",
       "       'Q8_2', 'Q8_3', 'Q8_4', 'Q8_5', 'Q8_6', 'Q8_7', 'Q8_8', 'Q8_9', 'Q8_10',\n",
       "       'Q8_11', 'Q9', 'Q10', 'Q11', 'Q12', 'Q13', 'Q14', 'Q15', 'Q16', 'Q17',\n",
       "       'Q18', 'Q19', 'Latitude', 'Longitude', 'ID.1', 'sourceCountry',\n",
       "       'ENRICH_FID', 'areaType', 'bufferUnits', 'bufferUnitsAlias',\n",
       "       'bufferRadii', 'aggregationMethod',\n",
       "       'Population to polygon size rating for the country',\n",
       "       'Apportionment confidence for the country', 'HasData',\n",
       "       '2016 Total Population', '2016 Purchasing Power: Total',\n",
       "       '2016 Total Households', 'x', 'y'],\n",
       "      dtype='object')"
      ]
     },
     "execution_count": 9,
     "metadata": {},
     "output_type": "execute_result"
    }
   ],
   "source": [
    "test.columns"
   ]
  },
  {
   "cell_type": "code",
   "execution_count": 10,
   "metadata": {
    "collapsed": false
   },
   "outputs": [],
   "source": [
    "mobile = train['mobile_money_classification']"
   ]
  },
  {
   "cell_type": "code",
   "execution_count": 11,
   "metadata": {
    "collapsed": false
   },
   "outputs": [],
   "source": [
    "train = train.drop(['mobile_money', 'savings', 'borrowing', 'insurance', 'mobile_money_classification'], axis=1)"
   ]
  },
  {
   "cell_type": "code",
   "execution_count": 12,
   "metadata": {
    "collapsed": true
   },
   "outputs": [],
   "source": [
    "# storing number of rows as an a variable for later use\n",
    "len_train=train.shape[0]"
   ]
  },
  {
   "cell_type": "code",
   "execution_count": 13,
   "metadata": {
    "collapsed": false
   },
   "outputs": [],
   "source": [
    "test = test.drop(['OBJECTID','ID.1', 'sourceCountry',\n",
    "       'ENRICH_FID', 'areaType', 'bufferUnits', 'bufferUnitsAlias',\n",
    "       'bufferRadii', 'aggregationMethod',\n",
    "       'Population to polygon size rating for the country',\n",
    "       'Apportionment confidence for the country','2016 Total Households', 'x', 'y'], axis=1)"
   ]
  },
  {
   "cell_type": "code",
   "execution_count": 14,
   "metadata": {
    "collapsed": true
   },
   "outputs": [],
   "source": [
    "train = train.drop(['OBJECTID', 'ID.1', 'sourceCountry',\n",
    "       'ENRICH_FID', 'areaType', 'bufferUnits', 'bufferUnitsAlias',\n",
    "       'bufferRadii', 'aggregationMethod',\n",
    "       'Population to polygon size rating for the country',\n",
    "       'Apportionment confidence for the country','2016 Pop 25+/Edu: Primary', '2016 Pop 25+/Edu: Secondary',\n",
    "       '2016 Pop 25+/Edu: University/Related', 'x', 'y'], axis=1)"
   ]
  },
  {
   "cell_type": "code",
   "execution_count": 15,
   "metadata": {
    "collapsed": false
   },
   "outputs": [
    {
     "data": {
      "text/html": [
       "<div>\n",
       "<table border=\"1\" class=\"dataframe\">\n",
       "  <thead>\n",
       "    <tr style=\"text-align: right;\">\n",
       "      <th></th>\n",
       "      <th>ID</th>\n",
       "      <th>Q1</th>\n",
       "      <th>Q2</th>\n",
       "      <th>Q3</th>\n",
       "      <th>Q4</th>\n",
       "      <th>Q5</th>\n",
       "      <th>Q6</th>\n",
       "      <th>Q7</th>\n",
       "      <th>Q8_1</th>\n",
       "      <th>Q8_2</th>\n",
       "      <th>...</th>\n",
       "      <th>Q15</th>\n",
       "      <th>Q16</th>\n",
       "      <th>Q17</th>\n",
       "      <th>Q18</th>\n",
       "      <th>Q19</th>\n",
       "      <th>Latitude</th>\n",
       "      <th>Longitude</th>\n",
       "      <th>HasData</th>\n",
       "      <th>2016 Total Population</th>\n",
       "      <th>2016 Purchasing Power: Total</th>\n",
       "    </tr>\n",
       "  </thead>\n",
       "  <tbody>\n",
       "    <tr>\n",
       "      <th>0</th>\n",
       "      <td>5086</td>\n",
       "      <td>98</td>\n",
       "      <td>2</td>\n",
       "      <td>3</td>\n",
       "      <td>1</td>\n",
       "      <td>1</td>\n",
       "      <td>2</td>\n",
       "      <td>2</td>\n",
       "      <td>0</td>\n",
       "      <td>0</td>\n",
       "      <td>...</td>\n",
       "      <td>-1</td>\n",
       "      <td>1</td>\n",
       "      <td>-1</td>\n",
       "      <td>4</td>\n",
       "      <td>4</td>\n",
       "      <td>-4.460442</td>\n",
       "      <td>29.811396</td>\n",
       "      <td>1</td>\n",
       "      <td>4142.0</td>\n",
       "      <td>3.386526e+09</td>\n",
       "    </tr>\n",
       "    <tr>\n",
       "      <th>1</th>\n",
       "      <td>1258</td>\n",
       "      <td>40</td>\n",
       "      <td>1</td>\n",
       "      <td>1</td>\n",
       "      <td>3</td>\n",
       "      <td>5</td>\n",
       "      <td>1</td>\n",
       "      <td>1</td>\n",
       "      <td>1</td>\n",
       "      <td>0</td>\n",
       "      <td>...</td>\n",
       "      <td>5</td>\n",
       "      <td>4</td>\n",
       "      <td>4</td>\n",
       "      <td>1</td>\n",
       "      <td>4</td>\n",
       "      <td>-6.176438</td>\n",
       "      <td>39.244871</td>\n",
       "      <td>1</td>\n",
       "      <td>76383.0</td>\n",
       "      <td>1.421899e+11</td>\n",
       "    </tr>\n",
       "    <tr>\n",
       "      <th>2</th>\n",
       "      <td>331</td>\n",
       "      <td>18</td>\n",
       "      <td>2</td>\n",
       "      <td>4</td>\n",
       "      <td>6</td>\n",
       "      <td>3</td>\n",
       "      <td>2</td>\n",
       "      <td>1</td>\n",
       "      <td>0</td>\n",
       "      <td>0</td>\n",
       "      <td>...</td>\n",
       "      <td>-1</td>\n",
       "      <td>1</td>\n",
       "      <td>-1</td>\n",
       "      <td>1</td>\n",
       "      <td>1</td>\n",
       "      <td>-6.825702</td>\n",
       "      <td>37.652798</td>\n",
       "      <td>1</td>\n",
       "      <td>109482.0</td>\n",
       "      <td>1.167192e+11</td>\n",
       "    </tr>\n",
       "    <tr>\n",
       "      <th>3</th>\n",
       "      <td>6729</td>\n",
       "      <td>50</td>\n",
       "      <td>1</td>\n",
       "      <td>1</td>\n",
       "      <td>3</td>\n",
       "      <td>1</td>\n",
       "      <td>1</td>\n",
       "      <td>1</td>\n",
       "      <td>0</td>\n",
       "      <td>0</td>\n",
       "      <td>...</td>\n",
       "      <td>-1</td>\n",
       "      <td>4</td>\n",
       "      <td>-1</td>\n",
       "      <td>1</td>\n",
       "      <td>4</td>\n",
       "      <td>-3.372049</td>\n",
       "      <td>35.808307</td>\n",
       "      <td>1</td>\n",
       "      <td>2111.0</td>\n",
       "      <td>2.794528e+09</td>\n",
       "    </tr>\n",
       "    <tr>\n",
       "      <th>4</th>\n",
       "      <td>8671</td>\n",
       "      <td>34</td>\n",
       "      <td>1</td>\n",
       "      <td>1</td>\n",
       "      <td>1</td>\n",
       "      <td>1</td>\n",
       "      <td>2</td>\n",
       "      <td>1</td>\n",
       "      <td>0</td>\n",
       "      <td>1</td>\n",
       "      <td>...</td>\n",
       "      <td>1</td>\n",
       "      <td>1</td>\n",
       "      <td>-1</td>\n",
       "      <td>1</td>\n",
       "      <td>4</td>\n",
       "      <td>-7.179645</td>\n",
       "      <td>31.039095</td>\n",
       "      <td>0</td>\n",
       "      <td>0.0</td>\n",
       "      <td>0.000000e+00</td>\n",
       "    </tr>\n",
       "  </tbody>\n",
       "</table>\n",
       "<p>5 rows × 35 columns</p>\n",
       "</div>"
      ],
      "text/plain": [
       "     ID  Q1  Q2  Q3  Q4  Q5  Q6  Q7  Q8_1  Q8_2              ...               \\\n",
       "0  5086  98   2   3   1   1   2   2     0     0              ...                \n",
       "1  1258  40   1   1   3   5   1   1     1     0              ...                \n",
       "2   331  18   2   4   6   3   2   1     0     0              ...                \n",
       "3  6729  50   1   1   3   1   1   1     0     0              ...                \n",
       "4  8671  34   1   1   1   1   2   1     0     1              ...                \n",
       "\n",
       "   Q15  Q16  Q17  Q18  Q19  Latitude  Longitude  HasData  \\\n",
       "0   -1    1   -1    4    4 -4.460442  29.811396        1   \n",
       "1    5    4    4    1    4 -6.176438  39.244871        1   \n",
       "2   -1    1   -1    1    1 -6.825702  37.652798        1   \n",
       "3   -1    4   -1    1    4 -3.372049  35.808307        1   \n",
       "4    1    1   -1    1    4 -7.179645  31.039095        0   \n",
       "\n",
       "   2016 Total Population  2016 Purchasing Power: Total  \n",
       "0                 4142.0                  3.386526e+09  \n",
       "1                76383.0                  1.421899e+11  \n",
       "2               109482.0                  1.167192e+11  \n",
       "3                 2111.0                  2.794528e+09  \n",
       "4                    0.0                  0.000000e+00  \n",
       "\n",
       "[5 rows x 35 columns]"
      ]
     },
     "execution_count": 15,
     "metadata": {},
     "output_type": "execute_result"
    }
   ],
   "source": [
    "train.head()"
   ]
  },
  {
   "cell_type": "code",
   "execution_count": 16,
   "metadata": {
    "collapsed": false
   },
   "outputs": [
    {
     "data": {
      "text/html": [
       "<div>\n",
       "<table border=\"1\" class=\"dataframe\">\n",
       "  <thead>\n",
       "    <tr style=\"text-align: right;\">\n",
       "      <th></th>\n",
       "      <th>ID</th>\n",
       "      <th>Q1</th>\n",
       "      <th>Q2</th>\n",
       "      <th>Q3</th>\n",
       "      <th>Q4</th>\n",
       "      <th>Q5</th>\n",
       "      <th>Q6</th>\n",
       "      <th>Q7</th>\n",
       "      <th>Q8_1</th>\n",
       "      <th>Q8_2</th>\n",
       "      <th>...</th>\n",
       "      <th>Q15</th>\n",
       "      <th>Q16</th>\n",
       "      <th>Q17</th>\n",
       "      <th>Q18</th>\n",
       "      <th>Q19</th>\n",
       "      <th>Latitude</th>\n",
       "      <th>Longitude</th>\n",
       "      <th>HasData</th>\n",
       "      <th>2016 Total Population</th>\n",
       "      <th>2016 Purchasing Power: Total</th>\n",
       "    </tr>\n",
       "  </thead>\n",
       "  <tbody>\n",
       "    <tr>\n",
       "      <th>0</th>\n",
       "      <td>3669</td>\n",
       "      <td>36</td>\n",
       "      <td>2</td>\n",
       "      <td>2</td>\n",
       "      <td>3</td>\n",
       "      <td>1</td>\n",
       "      <td>1</td>\n",
       "      <td>1</td>\n",
       "      <td>0</td>\n",
       "      <td>1</td>\n",
       "      <td>...</td>\n",
       "      <td>5</td>\n",
       "      <td>1</td>\n",
       "      <td>-1</td>\n",
       "      <td>1</td>\n",
       "      <td>4</td>\n",
       "      <td>-8.907215</td>\n",
       "      <td>34.672094</td>\n",
       "      <td>1</td>\n",
       "      <td>170.0</td>\n",
       "      <td>1.867756e+08</td>\n",
       "    </tr>\n",
       "    <tr>\n",
       "      <th>1</th>\n",
       "      <td>5223</td>\n",
       "      <td>27</td>\n",
       "      <td>1</td>\n",
       "      <td>1</td>\n",
       "      <td>3</td>\n",
       "      <td>1</td>\n",
       "      <td>2</td>\n",
       "      <td>1</td>\n",
       "      <td>0</td>\n",
       "      <td>1</td>\n",
       "      <td>...</td>\n",
       "      <td>6</td>\n",
       "      <td>1</td>\n",
       "      <td>-1</td>\n",
       "      <td>1</td>\n",
       "      <td>1</td>\n",
       "      <td>-8.204943</td>\n",
       "      <td>35.997953</td>\n",
       "      <td>1</td>\n",
       "      <td>561.0</td>\n",
       "      <td>6.552594e+08</td>\n",
       "    </tr>\n",
       "    <tr>\n",
       "      <th>2</th>\n",
       "      <td>7275</td>\n",
       "      <td>25</td>\n",
       "      <td>2</td>\n",
       "      <td>4</td>\n",
       "      <td>6</td>\n",
       "      <td>5</td>\n",
       "      <td>2</td>\n",
       "      <td>1</td>\n",
       "      <td>0</td>\n",
       "      <td>1</td>\n",
       "      <td>...</td>\n",
       "      <td>4</td>\n",
       "      <td>5</td>\n",
       "      <td>-1</td>\n",
       "      <td>1</td>\n",
       "      <td>1</td>\n",
       "      <td>-4.100044</td>\n",
       "      <td>32.407155</td>\n",
       "      <td>1</td>\n",
       "      <td>10523.0</td>\n",
       "      <td>9.366909e+09</td>\n",
       "    </tr>\n",
       "    <tr>\n",
       "      <th>3</th>\n",
       "      <td>7459</td>\n",
       "      <td>32</td>\n",
       "      <td>1</td>\n",
       "      <td>1</td>\n",
       "      <td>1</td>\n",
       "      <td>1</td>\n",
       "      <td>2</td>\n",
       "      <td>1</td>\n",
       "      <td>0</td>\n",
       "      <td>1</td>\n",
       "      <td>...</td>\n",
       "      <td>-1</td>\n",
       "      <td>1</td>\n",
       "      <td>-1</td>\n",
       "      <td>4</td>\n",
       "      <td>4</td>\n",
       "      <td>-4.054934</td>\n",
       "      <td>32.242549</td>\n",
       "      <td>0</td>\n",
       "      <td>0.0</td>\n",
       "      <td>0.000000e+00</td>\n",
       "    </tr>\n",
       "    <tr>\n",
       "      <th>4</th>\n",
       "      <td>3547</td>\n",
       "      <td>39</td>\n",
       "      <td>1</td>\n",
       "      <td>1</td>\n",
       "      <td>6</td>\n",
       "      <td>1</td>\n",
       "      <td>2</td>\n",
       "      <td>1</td>\n",
       "      <td>0</td>\n",
       "      <td>1</td>\n",
       "      <td>...</td>\n",
       "      <td>1</td>\n",
       "      <td>3</td>\n",
       "      <td>3</td>\n",
       "      <td>1</td>\n",
       "      <td>1</td>\n",
       "      <td>-2.888644</td>\n",
       "      <td>31.730506</td>\n",
       "      <td>0</td>\n",
       "      <td>0.0</td>\n",
       "      <td>0.000000e+00</td>\n",
       "    </tr>\n",
       "  </tbody>\n",
       "</table>\n",
       "<p>5 rows × 35 columns</p>\n",
       "</div>"
      ],
      "text/plain": [
       "     ID  Q1  Q2  Q3  Q4  Q5  Q6  Q7  Q8_1  Q8_2              ...               \\\n",
       "0  3669  36   2   2   3   1   1   1     0     1              ...                \n",
       "1  5223  27   1   1   3   1   2   1     0     1              ...                \n",
       "2  7275  25   2   4   6   5   2   1     0     1              ...                \n",
       "3  7459  32   1   1   1   1   2   1     0     1              ...                \n",
       "4  3547  39   1   1   6   1   2   1     0     1              ...                \n",
       "\n",
       "   Q15  Q16  Q17  Q18  Q19  Latitude  Longitude  HasData  \\\n",
       "0    5    1   -1    1    4 -8.907215  34.672094        1   \n",
       "1    6    1   -1    1    1 -8.204943  35.997953        1   \n",
       "2    4    5   -1    1    1 -4.100044  32.407155        1   \n",
       "3   -1    1   -1    4    4 -4.054934  32.242549        0   \n",
       "4    1    3    3    1    1 -2.888644  31.730506        0   \n",
       "\n",
       "   2016 Total Population  2016 Purchasing Power: Total  \n",
       "0                  170.0                  1.867756e+08  \n",
       "1                  561.0                  6.552594e+08  \n",
       "2                10523.0                  9.366909e+09  \n",
       "3                    0.0                  0.000000e+00  \n",
       "4                    0.0                  0.000000e+00  \n",
       "\n",
       "[5 rows x 35 columns]"
      ]
     },
     "execution_count": 16,
     "metadata": {},
     "output_type": "execute_result"
    }
   ],
   "source": [
    "test.head()"
   ]
  },
  {
   "cell_type": "code",
   "execution_count": 17,
   "metadata": {
    "collapsed": false
   },
   "outputs": [
    {
     "data": {
      "text/plain": [
       "7094"
      ]
     },
     "execution_count": 17,
     "metadata": {},
     "output_type": "execute_result"
    }
   ],
   "source": [
    "map_train['ID'].nunique()"
   ]
  },
  {
   "cell_type": "code",
   "execution_count": 18,
   "metadata": {
    "collapsed": false
   },
   "outputs": [
    {
     "data": {
      "text/plain": [
       "2365"
      ]
     },
     "execution_count": 18,
     "metadata": {},
     "output_type": "execute_result"
    }
   ],
   "source": [
    "map_tests['ID'].nunique()"
   ]
  },
  {
   "cell_type": "code",
   "execution_count": 19,
   "metadata": {
    "collapsed": true
   },
   "outputs": [],
   "source": [
    "train = train.merge(map_train, on='ID')"
   ]
  },
  {
   "cell_type": "code",
   "execution_count": 20,
   "metadata": {
    "collapsed": true
   },
   "outputs": [],
   "source": [
    "test = test.merge(map_tests, on='ID')"
   ]
  },
  {
   "cell_type": "code",
   "execution_count": 21,
   "metadata": {
    "collapsed": true
   },
   "outputs": [],
   "source": [
    "#coalescing the two columns for data treatment\n",
    "data=train.append(test)\n",
    "data=data.reset_index()\n",
    "data=data.drop('index',axis=1)"
   ]
  },
  {
   "cell_type": "code",
   "execution_count": 22,
   "metadata": {
    "collapsed": true
   },
   "outputs": [],
   "source": [
    "data['latitude2'] = np.round(data.Latitude)\n",
    "data['longitude2'] = np.round(data.Longitude)\n",
    "\n",
    "#data['distance'] = distance(**data[['Latitude', 'Longitude', 'latitude2', 'longitude2']])"
   ]
  },
  {
   "cell_type": "code",
   "execution_count": 23,
   "metadata": {
    "collapsed": true
   },
   "outputs": [],
   "source": [
    "# Provided function\n",
    "import numpy as np\n",
    "def haversine(lon1, lat1, lon2, lat2, earth_radius=6367):\n",
    "    \"\"\"\n",
    "    Calculate the great circle distance between two points\n",
    "    on the earth (specified in decimal degrees)\n",
    "\n",
    "    All args must be of equal length.\n",
    "\n",
    "    \"\"\"\n",
    "    lon1, lat1, lon2, lat2 = map(np.radians, [lon1, lat1, lon2, lat2])\n",
    "\n",
    "    dlon = lon2 - lon1\n",
    "    dlat = lat2 - lat1\n",
    "\n",
    "    a = np.sin(dlat/2.0)**2 + np.cos(lat1) * np.cos(lat2) * np.sin(dlon/2.0)**2\n",
    "\n",
    "    c = 2 * np.arcsin(np.sqrt(a))\n",
    "    km = earth_radius * c\n",
    "    return km"
   ]
  },
  {
   "cell_type": "code",
   "execution_count": 24,
   "metadata": {
    "collapsed": true
   },
   "outputs": [],
   "source": [
    "def haversine_est(lon1, lat1, lon2, lat2):\n",
    "    R = 6371.0 \n",
    "    \"\"\"\n",
    "    Estimation with equirectangular distance approximation. \n",
    "    Since the distance is relatively small, you can use the equirectangular distance approximation. \n",
    "    This approximation is faster than using the Haversine formula. \n",
    "    So, to get the distance from your reference point (lat1/lon1) to the point your are testing (lat2/lon2),\n",
    "    use the formula below. \n",
    "    Important Note: you need to convert all lat/lon points to radians:\n",
    "    \"\"\"\n",
    "    lon1, lat1, lon2, lat2 = map(np.radians, [lon1, lat1, lon2, lat2])\n",
    "\n",
    "    x = (lon2 - lon1) * np.cos( 0.5*(lat2+lat1) )\n",
    "    y = lat2 - lat1\n",
    "    km = R * np.sqrt( x*x + y*y )\n",
    "    return km"
   ]
  },
  {
   "cell_type": "code",
   "execution_count": 25,
   "metadata": {
    "collapsed": true
   },
   "outputs": [],
   "source": [
    "data['distance'] = data[['latitude2', 'longitude2', 'Latitude','Longitude']].apply(lambda x: haversine(x[1], x[0], x[3], x[2]), axis=1)"
   ]
  },
  {
   "cell_type": "code",
   "execution_count": 26,
   "metadata": {
    "collapsed": true
   },
   "outputs": [],
   "source": [
    "def dummy_manhattan_distance(lon1, lat1, lon2, lat2):\n",
    "    a = haversine(lon1, lat1, lon2, lat2)\n",
    "    b = haversine(lon1, lat1, lon2, lat2)\n",
    "    return a + b"
   ]
  },
  {
   "cell_type": "code",
   "execution_count": 27,
   "metadata": {
    "collapsed": true
   },
   "outputs": [],
   "source": [
    "data['distance_duumy'] = data[['latitude2', 'longitude2', 'Latitude','Longitude']].apply(lambda x: dummy_manhattan_distance(x[1], x[0], x[3], x[2]), axis=1)"
   ]
  },
  {
   "cell_type": "code",
   "execution_count": 28,
   "metadata": {
    "collapsed": true
   },
   "outputs": [],
   "source": [
    "def bearing_array(lon1, lat1, lon2, lat2):\n",
    "    AVG_EARTH_RADIUS = 6371  # in km\n",
    "    lng_delta_rad = np.radians(lon2 - lon1)\n",
    "    lon1, lat1, lon2, lat2 = map(np.radians, (lon1, lat1, lon2, lat2))\n",
    "    y = np.sin(lng_delta_rad) * np.cos(lat2)\n",
    "    x = np.cos(lat1) * np.sin(lat2) - np.sin(lat1) * np.cos(lat2) * np.cos(lng_delta_rad)\n",
    "    return np.degrees(np.arctan2(y, x))"
   ]
  },
  {
   "cell_type": "code",
   "execution_count": 29,
   "metadata": {
    "collapsed": true
   },
   "outputs": [],
   "source": [
    "data['distance_bearing'] = data[['latitude2', 'longitude2', 'Latitude','Longitude']].apply(lambda x: bearing_array(x[1], x[0], x[3], x[2]), axis=1)"
   ]
  },
  {
   "cell_type": "code",
   "execution_count": 30,
   "metadata": {
    "collapsed": true
   },
   "outputs": [],
   "source": [
    "data['Q8_1_7'] = data['Q8_1'] + data['Q8_7']"
   ]
  },
  {
   "cell_type": "code",
   "execution_count": 31,
   "metadata": {
    "collapsed": true
   },
   "outputs": [],
   "source": [
    "data['Q8_9_10'] = data['Q8_10'] + data['Q8_9']"
   ]
  },
  {
   "cell_type": "code",
   "execution_count": 32,
   "metadata": {
    "collapsed": true
   },
   "outputs": [],
   "source": [
    "data['qs'] = data['Q8_2'] + data['Q8_3'] + data['Q8_4'] + data['Q8_5'] + data['Q8_6']"
   ]
  },
  {
   "cell_type": "code",
   "execution_count": 33,
   "metadata": {
    "collapsed": true
   },
   "outputs": [],
   "source": [
    "#data = data.drop('qs', axis=1)"
   ]
  },
  {
   "cell_type": "code",
   "execution_count": 34,
   "metadata": {
    "collapsed": true
   },
   "outputs": [],
   "source": [
    "data['Q3'] = data['Q3'].astype('object')"
   ]
  },
  {
   "cell_type": "code",
   "execution_count": 35,
   "metadata": {
    "collapsed": true
   },
   "outputs": [],
   "source": [
    "data['lat_lon'] = data['Latitude'] + data['Longitude']"
   ]
  },
  {
   "cell_type": "code",
   "execution_count": 36,
   "metadata": {
    "collapsed": true
   },
   "outputs": [],
   "source": [
    "data = data.drop('ID', axis=1)"
   ]
  },
  {
   "cell_type": "code",
   "execution_count": 37,
   "metadata": {
    "collapsed": true
   },
   "outputs": [],
   "source": [
    "#data['Dis_Reg'] = data['region'] + ',' + data['district']"
   ]
  },
  {
   "cell_type": "code",
   "execution_count": 38,
   "metadata": {
    "collapsed": false
   },
   "outputs": [
    {
     "data": {
      "text/html": [
       "<div>\n",
       "<table border=\"1\" class=\"dataframe\">\n",
       "  <thead>\n",
       "    <tr style=\"text-align: right;\">\n",
       "      <th></th>\n",
       "      <th>Q1</th>\n",
       "      <th>Q2</th>\n",
       "      <th>Q3</th>\n",
       "      <th>Q4</th>\n",
       "      <th>Q5</th>\n",
       "      <th>Q6</th>\n",
       "      <th>Q7</th>\n",
       "      <th>Q8_1</th>\n",
       "      <th>Q8_2</th>\n",
       "      <th>Q8_3</th>\n",
       "      <th>...</th>\n",
       "      <th>region</th>\n",
       "      <th>latitude2</th>\n",
       "      <th>longitude2</th>\n",
       "      <th>distance</th>\n",
       "      <th>distance_duumy</th>\n",
       "      <th>distance_bearing</th>\n",
       "      <th>Q8_1_7</th>\n",
       "      <th>Q8_9_10</th>\n",
       "      <th>qs</th>\n",
       "      <th>lat_lon</th>\n",
       "    </tr>\n",
       "  </thead>\n",
       "  <tbody>\n",
       "    <tr>\n",
       "      <th>0</th>\n",
       "      <td>98</td>\n",
       "      <td>2</td>\n",
       "      <td>3</td>\n",
       "      <td>1</td>\n",
       "      <td>1</td>\n",
       "      <td>2</td>\n",
       "      <td>2</td>\n",
       "      <td>0</td>\n",
       "      <td>0</td>\n",
       "      <td>0</td>\n",
       "      <td>...</td>\n",
       "      <td>Kigoma</td>\n",
       "      <td>-4.0</td>\n",
       "      <td>30.0</td>\n",
       "      <td>55.271127</td>\n",
       "      <td>110.542253</td>\n",
       "      <td>-157.786948</td>\n",
       "      <td>0</td>\n",
       "      <td>1</td>\n",
       "      <td>0</td>\n",
       "      <td>25.350954</td>\n",
       "    </tr>\n",
       "    <tr>\n",
       "      <th>1</th>\n",
       "      <td>40</td>\n",
       "      <td>1</td>\n",
       "      <td>1</td>\n",
       "      <td>3</td>\n",
       "      <td>5</td>\n",
       "      <td>1</td>\n",
       "      <td>1</td>\n",
       "      <td>1</td>\n",
       "      <td>0</td>\n",
       "      <td>0</td>\n",
       "      <td>...</td>\n",
       "      <td>Zanzibar</td>\n",
       "      <td>-6.0</td>\n",
       "      <td>39.0</td>\n",
       "      <td>33.414768</td>\n",
       "      <td>66.829536</td>\n",
       "      <td>125.940889</td>\n",
       "      <td>1</td>\n",
       "      <td>0</td>\n",
       "      <td>0</td>\n",
       "      <td>33.068433</td>\n",
       "    </tr>\n",
       "    <tr>\n",
       "      <th>2</th>\n",
       "      <td>18</td>\n",
       "      <td>2</td>\n",
       "      <td>4</td>\n",
       "      <td>6</td>\n",
       "      <td>3</td>\n",
       "      <td>2</td>\n",
       "      <td>1</td>\n",
       "      <td>0</td>\n",
       "      <td>0</td>\n",
       "      <td>0</td>\n",
       "      <td>...</td>\n",
       "      <td>Morogoro</td>\n",
       "      <td>-7.0</td>\n",
       "      <td>38.0</td>\n",
       "      <td>42.921155</td>\n",
       "      <td>85.842310</td>\n",
       "      <td>-63.196030</td>\n",
       "      <td>0</td>\n",
       "      <td>1</td>\n",
       "      <td>0</td>\n",
       "      <td>30.827096</td>\n",
       "    </tr>\n",
       "    <tr>\n",
       "      <th>3</th>\n",
       "      <td>50</td>\n",
       "      <td>1</td>\n",
       "      <td>1</td>\n",
       "      <td>3</td>\n",
       "      <td>1</td>\n",
       "      <td>1</td>\n",
       "      <td>1</td>\n",
       "      <td>0</td>\n",
       "      <td>0</td>\n",
       "      <td>0</td>\n",
       "      <td>...</td>\n",
       "      <td>Arusha</td>\n",
       "      <td>-3.0</td>\n",
       "      <td>36.0</td>\n",
       "      <td>46.494014</td>\n",
       "      <td>92.988027</td>\n",
       "      <td>-152.782230</td>\n",
       "      <td>0</td>\n",
       "      <td>0</td>\n",
       "      <td>1</td>\n",
       "      <td>32.436258</td>\n",
       "    </tr>\n",
       "    <tr>\n",
       "      <th>4</th>\n",
       "      <td>34</td>\n",
       "      <td>1</td>\n",
       "      <td>1</td>\n",
       "      <td>1</td>\n",
       "      <td>1</td>\n",
       "      <td>2</td>\n",
       "      <td>1</td>\n",
       "      <td>0</td>\n",
       "      <td>1</td>\n",
       "      <td>0</td>\n",
       "      <td>...</td>\n",
       "      <td>Rukwa</td>\n",
       "      <td>-7.0</td>\n",
       "      <td>31.0</td>\n",
       "      <td>20.423306</td>\n",
       "      <td>40.846612</td>\n",
       "      <td>167.815988</td>\n",
       "      <td>0</td>\n",
       "      <td>0</td>\n",
       "      <td>1</td>\n",
       "      <td>23.859450</td>\n",
       "    </tr>\n",
       "  </tbody>\n",
       "</table>\n",
       "<p>5 rows × 45 columns</p>\n",
       "</div>"
      ],
      "text/plain": [
       "   Q1  Q2 Q3  Q4  Q5  Q6  Q7  Q8_1  Q8_2  Q8_3    ...        region  \\\n",
       "0  98   2  3   1   1   2   2     0     0     0    ...        Kigoma   \n",
       "1  40   1  1   3   5   1   1     1     0     0    ...      Zanzibar   \n",
       "2  18   2  4   6   3   2   1     0     0     0    ...      Morogoro   \n",
       "3  50   1  1   3   1   1   1     0     0     0    ...        Arusha   \n",
       "4  34   1  1   1   1   2   1     0     1     0    ...         Rukwa   \n",
       "\n",
       "   latitude2  longitude2   distance  distance_duumy  distance_bearing  Q8_1_7  \\\n",
       "0       -4.0        30.0  55.271127      110.542253       -157.786948       0   \n",
       "1       -6.0        39.0  33.414768       66.829536        125.940889       1   \n",
       "2       -7.0        38.0  42.921155       85.842310        -63.196030       0   \n",
       "3       -3.0        36.0  46.494014       92.988027       -152.782230       0   \n",
       "4       -7.0        31.0  20.423306       40.846612        167.815988       0   \n",
       "\n",
       "   Q8_9_10  qs    lat_lon  \n",
       "0        1   0  25.350954  \n",
       "1        0   0  33.068433  \n",
       "2        1   0  30.827096  \n",
       "3        0   1  32.436258  \n",
       "4        0   1  23.859450  \n",
       "\n",
       "[5 rows x 45 columns]"
      ]
     },
     "execution_count": 38,
     "metadata": {},
     "output_type": "execute_result"
    }
   ],
   "source": [
    "data.head()"
   ]
  },
  {
   "cell_type": "code",
   "execution_count": 39,
   "metadata": {
    "collapsed": true
   },
   "outputs": [],
   "source": [
    "data = pd.get_dummies(data)"
   ]
  },
  {
   "cell_type": "code",
   "execution_count": 40,
   "metadata": {
    "collapsed": false
   },
   "outputs": [
    {
     "data": {
      "text/html": [
       "<div>\n",
       "<table border=\"1\" class=\"dataframe\">\n",
       "  <thead>\n",
       "    <tr style=\"text-align: right;\">\n",
       "      <th></th>\n",
       "      <th>Q1</th>\n",
       "      <th>Q2</th>\n",
       "      <th>Q4</th>\n",
       "      <th>Q5</th>\n",
       "      <th>Q6</th>\n",
       "      <th>Q7</th>\n",
       "      <th>Q8_1</th>\n",
       "      <th>Q8_2</th>\n",
       "      <th>Q8_3</th>\n",
       "      <th>Q8_4</th>\n",
       "      <th>...</th>\n",
       "      <th>region_Mtwara</th>\n",
       "      <th>region_Mwanza</th>\n",
       "      <th>region_Pwani</th>\n",
       "      <th>region_Rukwa</th>\n",
       "      <th>region_Ruvuma</th>\n",
       "      <th>region_Shinyanga</th>\n",
       "      <th>region_Singida</th>\n",
       "      <th>region_Tabora</th>\n",
       "      <th>region_Tanga</th>\n",
       "      <th>region_Zanzibar</th>\n",
       "    </tr>\n",
       "  </thead>\n",
       "  <tbody>\n",
       "    <tr>\n",
       "      <th>0</th>\n",
       "      <td>98</td>\n",
       "      <td>2</td>\n",
       "      <td>1</td>\n",
       "      <td>1</td>\n",
       "      <td>2</td>\n",
       "      <td>2</td>\n",
       "      <td>0</td>\n",
       "      <td>0</td>\n",
       "      <td>0</td>\n",
       "      <td>0</td>\n",
       "      <td>...</td>\n",
       "      <td>0</td>\n",
       "      <td>0</td>\n",
       "      <td>0</td>\n",
       "      <td>0</td>\n",
       "      <td>0</td>\n",
       "      <td>0</td>\n",
       "      <td>0</td>\n",
       "      <td>0</td>\n",
       "      <td>0</td>\n",
       "      <td>0</td>\n",
       "    </tr>\n",
       "    <tr>\n",
       "      <th>1</th>\n",
       "      <td>40</td>\n",
       "      <td>1</td>\n",
       "      <td>3</td>\n",
       "      <td>5</td>\n",
       "      <td>1</td>\n",
       "      <td>1</td>\n",
       "      <td>1</td>\n",
       "      <td>0</td>\n",
       "      <td>0</td>\n",
       "      <td>0</td>\n",
       "      <td>...</td>\n",
       "      <td>0</td>\n",
       "      <td>0</td>\n",
       "      <td>0</td>\n",
       "      <td>0</td>\n",
       "      <td>0</td>\n",
       "      <td>0</td>\n",
       "      <td>0</td>\n",
       "      <td>0</td>\n",
       "      <td>0</td>\n",
       "      <td>1</td>\n",
       "    </tr>\n",
       "    <tr>\n",
       "      <th>2</th>\n",
       "      <td>18</td>\n",
       "      <td>2</td>\n",
       "      <td>6</td>\n",
       "      <td>3</td>\n",
       "      <td>2</td>\n",
       "      <td>1</td>\n",
       "      <td>0</td>\n",
       "      <td>0</td>\n",
       "      <td>0</td>\n",
       "      <td>0</td>\n",
       "      <td>...</td>\n",
       "      <td>0</td>\n",
       "      <td>0</td>\n",
       "      <td>0</td>\n",
       "      <td>0</td>\n",
       "      <td>0</td>\n",
       "      <td>0</td>\n",
       "      <td>0</td>\n",
       "      <td>0</td>\n",
       "      <td>0</td>\n",
       "      <td>0</td>\n",
       "    </tr>\n",
       "    <tr>\n",
       "      <th>3</th>\n",
       "      <td>50</td>\n",
       "      <td>1</td>\n",
       "      <td>3</td>\n",
       "      <td>1</td>\n",
       "      <td>1</td>\n",
       "      <td>1</td>\n",
       "      <td>0</td>\n",
       "      <td>0</td>\n",
       "      <td>0</td>\n",
       "      <td>1</td>\n",
       "      <td>...</td>\n",
       "      <td>0</td>\n",
       "      <td>0</td>\n",
       "      <td>0</td>\n",
       "      <td>0</td>\n",
       "      <td>0</td>\n",
       "      <td>0</td>\n",
       "      <td>0</td>\n",
       "      <td>0</td>\n",
       "      <td>0</td>\n",
       "      <td>0</td>\n",
       "    </tr>\n",
       "    <tr>\n",
       "      <th>4</th>\n",
       "      <td>34</td>\n",
       "      <td>1</td>\n",
       "      <td>1</td>\n",
       "      <td>1</td>\n",
       "      <td>2</td>\n",
       "      <td>1</td>\n",
       "      <td>0</td>\n",
       "      <td>1</td>\n",
       "      <td>0</td>\n",
       "      <td>0</td>\n",
       "      <td>...</td>\n",
       "      <td>0</td>\n",
       "      <td>0</td>\n",
       "      <td>0</td>\n",
       "      <td>1</td>\n",
       "      <td>0</td>\n",
       "      <td>0</td>\n",
       "      <td>0</td>\n",
       "      <td>0</td>\n",
       "      <td>0</td>\n",
       "      <td>0</td>\n",
       "    </tr>\n",
       "  </tbody>\n",
       "</table>\n",
       "<p>5 rows × 189 columns</p>\n",
       "</div>"
      ],
      "text/plain": [
       "   Q1  Q2  Q4  Q5  Q6  Q7  Q8_1  Q8_2  Q8_3  Q8_4       ...         \\\n",
       "0  98   2   1   1   2   2     0     0     0     0       ...          \n",
       "1  40   1   3   5   1   1     1     0     0     0       ...          \n",
       "2  18   2   6   3   2   1     0     0     0     0       ...          \n",
       "3  50   1   3   1   1   1     0     0     0     1       ...          \n",
       "4  34   1   1   1   2   1     0     1     0     0       ...          \n",
       "\n",
       "   region_Mtwara  region_Mwanza  region_Pwani  region_Rukwa  region_Ruvuma  \\\n",
       "0              0              0             0             0              0   \n",
       "1              0              0             0             0              0   \n",
       "2              0              0             0             0              0   \n",
       "3              0              0             0             0              0   \n",
       "4              0              0             0             1              0   \n",
       "\n",
       "   region_Shinyanga  region_Singida  region_Tabora  region_Tanga  \\\n",
       "0                 0               0              0             0   \n",
       "1                 0               0              0             0   \n",
       "2                 0               0              0             0   \n",
       "3                 0               0              0             0   \n",
       "4                 0               0              0             0   \n",
       "\n",
       "   region_Zanzibar  \n",
       "0                0  \n",
       "1                1  \n",
       "2                0  \n",
       "3                0  \n",
       "4                0  \n",
       "\n",
       "[5 rows x 189 columns]"
      ]
     },
     "execution_count": 40,
     "metadata": {},
     "output_type": "execute_result"
    }
   ],
   "source": [
    "data.head()"
   ]
  },
  {
   "cell_type": "code",
   "execution_count": 41,
   "metadata": {
    "collapsed": true
   },
   "outputs": [],
   "source": [
    "# Splitting test and train data\n",
    "train_df=data[:len_train]\n",
    "test_df=data[len_train:]"
   ]
  },
  {
   "cell_type": "code",
   "execution_count": 42,
   "metadata": {
    "collapsed": true
   },
   "outputs": [],
   "source": [
    "# Removing Price from independen t variable data and keeping only price in the other\n",
    "X = train_df\n",
    "y= mobile"
   ]
  },
  {
   "cell_type": "code",
   "execution_count": 43,
   "metadata": {
    "collapsed": true
   },
   "outputs": [],
   "source": [
    "X_train, X_test, y_train, y_test = train_test_split(X, y, test_size=0.2, random_state=42)"
   ]
  },
  {
   "cell_type": "code",
   "execution_count": 44,
   "metadata": {
    "collapsed": true
   },
   "outputs": [],
   "source": [
    "from sklearn import metrics"
   ]
  },
  {
   "cell_type": "code",
   "execution_count": null,
   "metadata": {
    "collapsed": false
   },
   "outputs": [],
   "source": []
  },
  {
   "cell_type": "code",
   "execution_count": null,
   "metadata": {
    "collapsed": true
   },
   "outputs": [],
   "source": []
  },
  {
   "cell_type": "code",
   "execution_count": 45,
   "metadata": {
    "collapsed": true
   },
   "outputs": [],
   "source": [
    "import xgboost as xgb"
   ]
  },
  {
   "cell_type": "code",
   "execution_count": 94,
   "metadata": {
    "collapsed": true
   },
   "outputs": [],
   "source": [
    "from catboost import CatBoostClassifier"
   ]
  },
  {
   "cell_type": "code",
   "execution_count": 47,
   "metadata": {
    "collapsed": true
   },
   "outputs": [],
   "source": [
    "cat = CatBoostClassifier(loss_function='MultiClass')"
   ]
  },
  {
   "cell_type": "code",
   "execution_count": 48,
   "metadata": {
    "collapsed": true
   },
   "outputs": [],
   "source": [
    "#gb =XGBClassifier(n_estimators=200, objective='multi:softprob',gamma=0.5,colsample_bylevel=0.7) CatBoostClassifier(loss_function='MultiClass')"
   ]
  },
  {
   "cell_type": "code",
   "execution_count": 49,
   "metadata": {
    "collapsed": false
   },
   "outputs": [],
   "source": [
    "for i in range(5):\n",
    "    cb_model = CatBoostClassifier(iterations=420,\n",
    "                              learning_rate=0.1,\n",
    "                              depth=6,loss_function='MultiClass',#,scale_pos_weight=200,\n",
    "                             l2_leaf_reg=10,\n",
    "                             bootstrap_type='Bernoulli',\n",
    "                              subsample=0.7,\n",
    "                              #leaf_estimation_iterations=10,\n",
    "                              metric_period=20,\n",
    "                              #od_type='Iter',\n",
    "                              #od_wait=45,\n",
    "                              random_seed=42,\n",
    "                              allow_writing_files=False)"
   ]
  },
  {
   "cell_type": "code",
   "execution_count": 50,
   "metadata": {
    "collapsed": false
   },
   "outputs": [
    {
     "name": "stdout",
     "output_type": "stream",
     "text": [
      "0:\tlearn: -1.2948722\ttotal: 1.06s\tremaining: 7m 25s\n",
      "20:\tlearn: -0.8286814\ttotal: 22.1s\tremaining: 6m 59s\n",
      "40:\tlearn: -0.7745317\ttotal: 40.6s\tremaining: 6m 15s\n",
      "60:\tlearn: -0.7508234\ttotal: 1m\tremaining: 5m 55s\n",
      "80:\tlearn: -0.7353918\ttotal: 1m 18s\tremaining: 5m 29s\n",
      "100:\tlearn: -0.7232368\ttotal: 1m 36s\tremaining: 5m 5s\n",
      "120:\tlearn: -0.7103068\ttotal: 1m 54s\tremaining: 4m 42s\n",
      "140:\tlearn: -0.6988756\ttotal: 2m 6s\tremaining: 4m 9s\n",
      "160:\tlearn: -0.6908904\ttotal: 2m 16s\tremaining: 3m 40s\n",
      "180:\tlearn: -0.6837903\ttotal: 2m 27s\tremaining: 3m 14s\n",
      "200:\tlearn: -0.6756696\ttotal: 2m 40s\tremaining: 2m 55s\n",
      "220:\tlearn: -0.6677922\ttotal: 2m 52s\tremaining: 2m 35s\n",
      "240:\tlearn: -0.6607858\ttotal: 3m 3s\tremaining: 2m 16s\n",
      "260:\tlearn: -0.6537183\ttotal: 3m 14s\tremaining: 1m 58s\n",
      "280:\tlearn: -0.6475890\ttotal: 3m 26s\tremaining: 1m 41s\n",
      "300:\tlearn: -0.6400614\ttotal: 3m 37s\tremaining: 1m 26s\n",
      "320:\tlearn: -0.6326724\ttotal: 3m 49s\tremaining: 1m 10s\n",
      "340:\tlearn: -0.6258011\ttotal: 4m 1s\tremaining: 55.9s\n",
      "360:\tlearn: -0.6205500\ttotal: 4m 13s\tremaining: 41.4s\n",
      "380:\tlearn: -0.6151701\ttotal: 4m 25s\tremaining: 27.2s\n",
      "400:\tlearn: -0.6107528\ttotal: 4m 37s\tremaining: 13.1s\n",
      "419:\tlearn: -0.6064701\ttotal: 4m 47s\tremaining: 0us\n"
     ]
    },
    {
     "data": {
      "text/plain": [
       "<catboost.core.CatBoostClassifier at 0x1bd51bb02b0>"
      ]
     },
     "execution_count": 50,
     "metadata": {},
     "output_type": "execute_result"
    }
   ],
   "source": [
    "cb_model.fit(X,y)"
   ]
  },
  {
   "cell_type": "code",
   "execution_count": 51,
   "metadata": {
    "collapsed": false
   },
   "outputs": [],
   "source": [
    "y_xg = cb_model.predict_proba(X_test)"
   ]
  },
  {
   "cell_type": "code",
   "execution_count": null,
   "metadata": {
    "collapsed": true
   },
   "outputs": [],
   "source": []
  },
  {
   "cell_type": "code",
   "execution_count": 52,
   "metadata": {
    "collapsed": true
   },
   "outputs": [],
   "source": [
    "preds = cb_model.predict_proba(X)"
   ]
  },
  {
   "cell_type": "code",
   "execution_count": 53,
   "metadata": {
    "collapsed": true
   },
   "outputs": [],
   "source": [
    "from sklearn.metrics import log_loss"
   ]
  },
  {
   "cell_type": "code",
   "execution_count": 54,
   "metadata": {
    "collapsed": false
   },
   "outputs": [
    {
     "data": {
      "text/plain": [
       "0.60647009648939421"
      ]
     },
     "execution_count": 54,
     "metadata": {},
     "output_type": "execute_result"
    }
   ],
   "source": [
    "log_loss(y, preds)"
   ]
  },
  {
   "cell_type": "code",
   "execution_count": 97,
   "metadata": {
    "collapsed": false
   },
   "outputs": [],
   "source": [
    "for i in range(5):\n",
    "    cb_model1 = CatBoostClassifier(iterations=400,\n",
    "                              learning_rate=0.1,\n",
    "                              depth=6,loss_function='MultiClass',#,scale_pos_weight=200,\n",
    "                             l2_leaf_reg=5,\n",
    "                             bootstrap_type='Bayesian',\n",
    "                              #subsample=0.7,\n",
    "                              leaf_estimation_iterations=1,\n",
    "                              metric_period=20,\n",
    "                              #od_type='Iter',\n",
    "                              #od_wait=45,\n",
    "                              random_seed=1990,\n",
    "                              allow_writing_files=False)"
   ]
  },
  {
   "cell_type": "code",
   "execution_count": 98,
   "metadata": {
    "collapsed": false
   },
   "outputs": [
    {
     "name": "stdout",
     "output_type": "stream",
     "text": [
      "0:\tlearn: -1.2863727\ttotal: 1.45s\tremaining: 9m 38s\n",
      "20:\tlearn: -0.8168542\ttotal: 28s\tremaining: 8m 25s\n",
      "40:\tlearn: -0.7578999\ttotal: 55.7s\tremaining: 8m 7s\n",
      "60:\tlearn: -0.7362138\ttotal: 1m 18s\tremaining: 7m 17s\n",
      "80:\tlearn: -0.7222279\ttotal: 1m 47s\tremaining: 7m 2s\n",
      "100:\tlearn: -0.7100010\ttotal: 2m 16s\tremaining: 6m 43s\n",
      "120:\tlearn: -0.6988875\ttotal: 2m 41s\tremaining: 6m 13s\n",
      "140:\tlearn: -0.6888717\ttotal: 3m 11s\tremaining: 5m 51s\n",
      "160:\tlearn: -0.6817381\ttotal: 3m 34s\tremaining: 5m 18s\n",
      "180:\tlearn: -0.6741198\ttotal: 3m 54s\tremaining: 4m 43s\n",
      "200:\tlearn: -0.6672134\ttotal: 4m 18s\tremaining: 4m 15s\n",
      "220:\tlearn: -0.6605241\ttotal: 4m 41s\tremaining: 3m 48s\n",
      "240:\tlearn: -0.6543320\ttotal: 5m 2s\tremaining: 3m 19s\n",
      "260:\tlearn: -0.6484066\ttotal: 5m 25s\tremaining: 2m 53s\n",
      "280:\tlearn: -0.6432224\ttotal: 5m 50s\tremaining: 2m 28s\n",
      "300:\tlearn: -0.6365880\ttotal: 6m 11s\tremaining: 2m 2s\n",
      "320:\tlearn: -0.6323378\ttotal: 6m 35s\tremaining: 1m 37s\n",
      "340:\tlearn: -0.6275700\ttotal: 7m 2s\tremaining: 1m 13s\n",
      "360:\tlearn: -0.6243850\ttotal: 7m 27s\tremaining: 48.4s\n",
      "380:\tlearn: -0.6202423\ttotal: 7m 51s\tremaining: 23.5s\n",
      "399:\tlearn: -0.6168046\ttotal: 8m 16s\tremaining: 0us\n"
     ]
    },
    {
     "data": {
      "text/plain": [
       "<catboost.core.CatBoostClassifier at 0x1bd59ad15f8>"
      ]
     },
     "execution_count": 98,
     "metadata": {},
     "output_type": "execute_result"
    }
   ],
   "source": [
    "cb_model1.fit(X, y)"
   ]
  },
  {
   "cell_type": "code",
   "execution_count": 167,
   "metadata": {
    "collapsed": false
   },
   "outputs": [],
   "source": [
    "for i in range(5):\n",
    "    cb_model2 = CatBoostClassifier(iterations=450,\n",
    "                              learning_rate=0.1,\n",
    "                              depth=6,loss_function='MultiClass',#,scale_pos_weight=200,\n",
    "                            l2_leaf_reg=10,\n",
    "                             bootstrap_type='Bernoulli',\n",
    "                              subsample=0.7,\n",
    "                              #leaf_estimation_iterations=,\n",
    "                              metric_period=20,\n",
    "                              #od_type='Iter',\n",
    "                              #od_wait=45,\n",
    "                              random_seed=24,\n",
    "                              allow_writing_files=False)"
   ]
  },
  {
   "cell_type": "code",
   "execution_count": 168,
   "metadata": {
    "collapsed": false
   },
   "outputs": [
    {
     "name": "stdout",
     "output_type": "stream",
     "text": [
      "0:\tlearn: -1.2923299\ttotal: 1.59s\tremaining: 11m 52s\n",
      "20:\tlearn: -0.8292113\ttotal: 25.6s\tremaining: 8m 42s\n",
      "40:\tlearn: -0.7728118\ttotal: 45.8s\tremaining: 7m 36s\n",
      "60:\tlearn: -0.7479919\ttotal: 1m 5s\tremaining: 6m 55s\n",
      "80:\tlearn: -0.7332276\ttotal: 1m 24s\tremaining: 6m 24s\n",
      "100:\tlearn: -0.7204912\ttotal: 1m 43s\tremaining: 5m 57s\n",
      "120:\tlearn: -0.7088830\ttotal: 2m 3s\tremaining: 5m 34s\n",
      "140:\tlearn: -0.6972101\ttotal: 2m 23s\tremaining: 5m 13s\n",
      "160:\tlearn: -0.6885864\ttotal: 2m 42s\tremaining: 4m 50s\n",
      "180:\tlearn: -0.6811620\ttotal: 3m\tremaining: 4m 28s\n",
      "200:\tlearn: -0.6728695\ttotal: 3m 19s\tremaining: 4m 7s\n",
      "220:\tlearn: -0.6664573\ttotal: 3m 38s\tremaining: 3m 46s\n",
      "240:\tlearn: -0.6595399\ttotal: 3m 57s\tremaining: 3m 26s\n",
      "260:\tlearn: -0.6517117\ttotal: 4m 17s\tremaining: 3m 6s\n",
      "280:\tlearn: -0.6441970\ttotal: 4m 36s\tremaining: 2m 46s\n",
      "300:\tlearn: -0.6389381\ttotal: 5m\tremaining: 2m 28s\n",
      "320:\tlearn: -0.6328274\ttotal: 5m 27s\tremaining: 2m 11s\n",
      "340:\tlearn: -0.6277435\ttotal: 5m 47s\tremaining: 1m 51s\n",
      "360:\tlearn: -0.6227477\ttotal: 6m 7s\tremaining: 1m 30s\n",
      "380:\tlearn: -0.6183154\ttotal: 6m 27s\tremaining: 1m 10s\n",
      "400:\tlearn: -0.6129756\ttotal: 6m 46s\tremaining: 49.7s\n",
      "420:\tlearn: -0.6082857\ttotal: 7m 7s\tremaining: 29.4s\n",
      "440:\tlearn: -0.6037357\ttotal: 7m 26s\tremaining: 9.12s\n",
      "449:\tlearn: -0.6021214\ttotal: 7m 37s\tremaining: 0us\n"
     ]
    },
    {
     "data": {
      "text/plain": [
       "<catboost.core.CatBoostClassifier at 0x1bd5a86a3c8>"
      ]
     },
     "execution_count": 168,
     "metadata": {},
     "output_type": "execute_result"
    }
   ],
   "source": [
    "cb_model2.fit(X, y)"
   ]
  },
  {
   "cell_type": "markdown",
   "metadata": {},
   "source": [
    "## for test set"
   ]
  },
  {
   "cell_type": "code",
   "execution_count": 169,
   "metadata": {
    "collapsed": false
   },
   "outputs": [],
   "source": [
    "test_set_predictions =  cb_model2.predict_proba(test_df)"
   ]
  },
  {
   "cell_type": "code",
   "execution_count": 170,
   "metadata": {
    "collapsed": true
   },
   "outputs": [],
   "source": [
    "d = {\"ID\": test[\"ID\"], 'no_financial_services':test_set_predictions[:, 0], 'other_only':test_set_predictions[:, 1],\n",
    "    'mm_only':test_set_predictions[:, 2], 'mm_plus':test_set_predictions[:, 3]}\n",
    "df_predictions = pd.DataFrame(data=d)\n",
    "df_predictions = df_predictions[[\"ID\", 'no_financial_services','other_only','mm_only','mm_plus']]"
   ]
  },
  {
   "cell_type": "code",
   "execution_count": 148,
   "metadata": {
    "collapsed": false
   },
   "outputs": [],
   "source": [
    "d = {'no_financial_services':test_set_predictions[:, 0], 'other_only':test_set_predictions[:, 1],\n",
    "    'mm_only':test_set_predictions[:, 2], 'mm_plus':test_set_predictions[:, 3]}\n",
    "df_predictions = pd.DataFrame(data=d)\n",
    "df_predictions = df_predictions[['no_financial_services','other_only','mm_only','mm_plus']]"
   ]
  },
  {
   "cell_type": "code",
   "execution_count": 116,
   "metadata": {
    "collapsed": false
   },
   "outputs": [],
   "source": [
    "#df_predictions = df_predictions.rank()"
   ]
  },
  {
   "cell_type": "code",
   "execution_count": 75,
   "metadata": {
    "collapsed": false
   },
   "outputs": [],
   "source": [
    "df_predictions['ID'] = test['ID']"
   ]
  },
  {
   "cell_type": "code",
   "execution_count": 76,
   "metadata": {
    "collapsed": false
   },
   "outputs": [],
   "source": [
    "df_predictions = df_predictions[['ID', 'no_financial_services','other_only','mm_only','mm_plus']]"
   ]
  },
  {
   "cell_type": "code",
   "execution_count": 171,
   "metadata": {
    "collapsed": false
   },
   "outputs": [
    {
     "data": {
      "text/html": [
       "<div>\n",
       "<table border=\"1\" class=\"dataframe\">\n",
       "  <thead>\n",
       "    <tr style=\"text-align: right;\">\n",
       "      <th></th>\n",
       "      <th>ID</th>\n",
       "      <th>no_financial_services</th>\n",
       "      <th>other_only</th>\n",
       "      <th>mm_only</th>\n",
       "      <th>mm_plus</th>\n",
       "    </tr>\n",
       "  </thead>\n",
       "  <tbody>\n",
       "    <tr>\n",
       "      <th>0</th>\n",
       "      <td>3669</td>\n",
       "      <td>0.007967</td>\n",
       "      <td>0.026987</td>\n",
       "      <td>0.186923</td>\n",
       "      <td>0.778124</td>\n",
       "    </tr>\n",
       "    <tr>\n",
       "      <th>1</th>\n",
       "      <td>5223</td>\n",
       "      <td>0.000539</td>\n",
       "      <td>0.007621</td>\n",
       "      <td>0.051026</td>\n",
       "      <td>0.940814</td>\n",
       "    </tr>\n",
       "    <tr>\n",
       "      <th>2</th>\n",
       "      <td>7275</td>\n",
       "      <td>0.000286</td>\n",
       "      <td>0.001744</td>\n",
       "      <td>0.123701</td>\n",
       "      <td>0.874269</td>\n",
       "    </tr>\n",
       "    <tr>\n",
       "      <th>3</th>\n",
       "      <td>7459</td>\n",
       "      <td>0.137329</td>\n",
       "      <td>0.812466</td>\n",
       "      <td>0.020944</td>\n",
       "      <td>0.029262</td>\n",
       "    </tr>\n",
       "    <tr>\n",
       "      <th>4</th>\n",
       "      <td>3547</td>\n",
       "      <td>0.000253</td>\n",
       "      <td>0.000818</td>\n",
       "      <td>0.030565</td>\n",
       "      <td>0.968364</td>\n",
       "    </tr>\n",
       "    <tr>\n",
       "      <th>5</th>\n",
       "      <td>888</td>\n",
       "      <td>0.082504</td>\n",
       "      <td>0.069427</td>\n",
       "      <td>0.386349</td>\n",
       "      <td>0.461721</td>\n",
       "    </tr>\n",
       "    <tr>\n",
       "      <th>6</th>\n",
       "      <td>207</td>\n",
       "      <td>0.001352</td>\n",
       "      <td>0.001792</td>\n",
       "      <td>0.308786</td>\n",
       "      <td>0.688071</td>\n",
       "    </tr>\n",
       "    <tr>\n",
       "      <th>7</th>\n",
       "      <td>5413</td>\n",
       "      <td>0.018314</td>\n",
       "      <td>0.025096</td>\n",
       "      <td>0.172294</td>\n",
       "      <td>0.784296</td>\n",
       "    </tr>\n",
       "    <tr>\n",
       "      <th>8</th>\n",
       "      <td>5833</td>\n",
       "      <td>0.334078</td>\n",
       "      <td>0.396437</td>\n",
       "      <td>0.078061</td>\n",
       "      <td>0.191425</td>\n",
       "    </tr>\n",
       "    <tr>\n",
       "      <th>9</th>\n",
       "      <td>9221</td>\n",
       "      <td>0.000474</td>\n",
       "      <td>0.002897</td>\n",
       "      <td>0.102317</td>\n",
       "      <td>0.894312</td>\n",
       "    </tr>\n",
       "    <tr>\n",
       "      <th>10</th>\n",
       "      <td>2151</td>\n",
       "      <td>0.244221</td>\n",
       "      <td>0.560967</td>\n",
       "      <td>0.032139</td>\n",
       "      <td>0.162673</td>\n",
       "    </tr>\n",
       "    <tr>\n",
       "      <th>11</th>\n",
       "      <td>7096</td>\n",
       "      <td>0.228004</td>\n",
       "      <td>0.734674</td>\n",
       "      <td>0.012081</td>\n",
       "      <td>0.025241</td>\n",
       "    </tr>\n",
       "    <tr>\n",
       "      <th>12</th>\n",
       "      <td>2948</td>\n",
       "      <td>0.076131</td>\n",
       "      <td>0.053962</td>\n",
       "      <td>0.229805</td>\n",
       "      <td>0.640102</td>\n",
       "    </tr>\n",
       "    <tr>\n",
       "      <th>13</th>\n",
       "      <td>3583</td>\n",
       "      <td>0.192715</td>\n",
       "      <td>0.739016</td>\n",
       "      <td>0.019801</td>\n",
       "      <td>0.048469</td>\n",
       "    </tr>\n",
       "    <tr>\n",
       "      <th>14</th>\n",
       "      <td>2056</td>\n",
       "      <td>0.429910</td>\n",
       "      <td>0.530254</td>\n",
       "      <td>0.011960</td>\n",
       "      <td>0.027876</td>\n",
       "    </tr>\n",
       "    <tr>\n",
       "      <th>15</th>\n",
       "      <td>3560</td>\n",
       "      <td>0.016447</td>\n",
       "      <td>0.039872</td>\n",
       "      <td>0.172661</td>\n",
       "      <td>0.771020</td>\n",
       "    </tr>\n",
       "    <tr>\n",
       "      <th>16</th>\n",
       "      <td>6876</td>\n",
       "      <td>0.070763</td>\n",
       "      <td>0.046480</td>\n",
       "      <td>0.327990</td>\n",
       "      <td>0.554767</td>\n",
       "    </tr>\n",
       "    <tr>\n",
       "      <th>17</th>\n",
       "      <td>6440</td>\n",
       "      <td>0.000352</td>\n",
       "      <td>0.003625</td>\n",
       "      <td>0.018977</td>\n",
       "      <td>0.977045</td>\n",
       "    </tr>\n",
       "    <tr>\n",
       "      <th>18</th>\n",
       "      <td>6350</td>\n",
       "      <td>0.203459</td>\n",
       "      <td>0.723857</td>\n",
       "      <td>0.004009</td>\n",
       "      <td>0.068674</td>\n",
       "    </tr>\n",
       "    <tr>\n",
       "      <th>19</th>\n",
       "      <td>4829</td>\n",
       "      <td>0.005344</td>\n",
       "      <td>0.006266</td>\n",
       "      <td>0.214510</td>\n",
       "      <td>0.773880</td>\n",
       "    </tr>\n",
       "    <tr>\n",
       "      <th>20</th>\n",
       "      <td>9192</td>\n",
       "      <td>0.002565</td>\n",
       "      <td>0.004798</td>\n",
       "      <td>0.204153</td>\n",
       "      <td>0.788484</td>\n",
       "    </tr>\n",
       "    <tr>\n",
       "      <th>21</th>\n",
       "      <td>4290</td>\n",
       "      <td>0.007333</td>\n",
       "      <td>0.010822</td>\n",
       "      <td>0.175140</td>\n",
       "      <td>0.806706</td>\n",
       "    </tr>\n",
       "    <tr>\n",
       "      <th>22</th>\n",
       "      <td>8320</td>\n",
       "      <td>0.506982</td>\n",
       "      <td>0.397454</td>\n",
       "      <td>0.035920</td>\n",
       "      <td>0.059643</td>\n",
       "    </tr>\n",
       "    <tr>\n",
       "      <th>23</th>\n",
       "      <td>9150</td>\n",
       "      <td>0.069618</td>\n",
       "      <td>0.209211</td>\n",
       "      <td>0.091456</td>\n",
       "      <td>0.629714</td>\n",
       "    </tr>\n",
       "    <tr>\n",
       "      <th>24</th>\n",
       "      <td>3777</td>\n",
       "      <td>0.207886</td>\n",
       "      <td>0.669407</td>\n",
       "      <td>0.029964</td>\n",
       "      <td>0.092743</td>\n",
       "    </tr>\n",
       "    <tr>\n",
       "      <th>25</th>\n",
       "      <td>7103</td>\n",
       "      <td>0.139743</td>\n",
       "      <td>0.702867</td>\n",
       "      <td>0.031080</td>\n",
       "      <td>0.126311</td>\n",
       "    </tr>\n",
       "    <tr>\n",
       "      <th>26</th>\n",
       "      <td>4412</td>\n",
       "      <td>0.001510</td>\n",
       "      <td>0.004450</td>\n",
       "      <td>0.118129</td>\n",
       "      <td>0.875911</td>\n",
       "    </tr>\n",
       "    <tr>\n",
       "      <th>27</th>\n",
       "      <td>4712</td>\n",
       "      <td>0.325900</td>\n",
       "      <td>0.644163</td>\n",
       "      <td>0.010068</td>\n",
       "      <td>0.019869</td>\n",
       "    </tr>\n",
       "    <tr>\n",
       "      <th>28</th>\n",
       "      <td>7478</td>\n",
       "      <td>0.001211</td>\n",
       "      <td>0.003025</td>\n",
       "      <td>0.210179</td>\n",
       "      <td>0.785585</td>\n",
       "    </tr>\n",
       "    <tr>\n",
       "      <th>29</th>\n",
       "      <td>6433</td>\n",
       "      <td>0.000380</td>\n",
       "      <td>0.000618</td>\n",
       "      <td>0.160424</td>\n",
       "      <td>0.838578</td>\n",
       "    </tr>\n",
       "    <tr>\n",
       "      <th>...</th>\n",
       "      <td>...</td>\n",
       "      <td>...</td>\n",
       "      <td>...</td>\n",
       "      <td>...</td>\n",
       "      <td>...</td>\n",
       "    </tr>\n",
       "    <tr>\n",
       "      <th>2335</th>\n",
       "      <td>4737</td>\n",
       "      <td>0.001827</td>\n",
       "      <td>0.004241</td>\n",
       "      <td>0.440511</td>\n",
       "      <td>0.553421</td>\n",
       "    </tr>\n",
       "    <tr>\n",
       "      <th>2336</th>\n",
       "      <td>6589</td>\n",
       "      <td>0.572771</td>\n",
       "      <td>0.374942</td>\n",
       "      <td>0.026537</td>\n",
       "      <td>0.025750</td>\n",
       "    </tr>\n",
       "    <tr>\n",
       "      <th>2337</th>\n",
       "      <td>9123</td>\n",
       "      <td>0.001478</td>\n",
       "      <td>0.001749</td>\n",
       "      <td>0.204176</td>\n",
       "      <td>0.792597</td>\n",
       "    </tr>\n",
       "    <tr>\n",
       "      <th>2338</th>\n",
       "      <td>409</td>\n",
       "      <td>0.102565</td>\n",
       "      <td>0.053476</td>\n",
       "      <td>0.383895</td>\n",
       "      <td>0.460064</td>\n",
       "    </tr>\n",
       "    <tr>\n",
       "      <th>2339</th>\n",
       "      <td>1734</td>\n",
       "      <td>0.658448</td>\n",
       "      <td>0.328408</td>\n",
       "      <td>0.008650</td>\n",
       "      <td>0.004493</td>\n",
       "    </tr>\n",
       "    <tr>\n",
       "      <th>2340</th>\n",
       "      <td>1265</td>\n",
       "      <td>0.632717</td>\n",
       "      <td>0.286747</td>\n",
       "      <td>0.055035</td>\n",
       "      <td>0.025501</td>\n",
       "    </tr>\n",
       "    <tr>\n",
       "      <th>2341</th>\n",
       "      <td>1290</td>\n",
       "      <td>0.738460</td>\n",
       "      <td>0.244514</td>\n",
       "      <td>0.006685</td>\n",
       "      <td>0.010341</td>\n",
       "    </tr>\n",
       "    <tr>\n",
       "      <th>2342</th>\n",
       "      <td>6210</td>\n",
       "      <td>0.557384</td>\n",
       "      <td>0.380019</td>\n",
       "      <td>0.030300</td>\n",
       "      <td>0.032297</td>\n",
       "    </tr>\n",
       "    <tr>\n",
       "      <th>2343</th>\n",
       "      <td>6093</td>\n",
       "      <td>0.574096</td>\n",
       "      <td>0.133527</td>\n",
       "      <td>0.184425</td>\n",
       "      <td>0.107952</td>\n",
       "    </tr>\n",
       "    <tr>\n",
       "      <th>2344</th>\n",
       "      <td>4932</td>\n",
       "      <td>0.007895</td>\n",
       "      <td>0.005074</td>\n",
       "      <td>0.636045</td>\n",
       "      <td>0.350987</td>\n",
       "    </tr>\n",
       "    <tr>\n",
       "      <th>2345</th>\n",
       "      <td>2791</td>\n",
       "      <td>0.697687</td>\n",
       "      <td>0.273906</td>\n",
       "      <td>0.014784</td>\n",
       "      <td>0.013623</td>\n",
       "    </tr>\n",
       "    <tr>\n",
       "      <th>2346</th>\n",
       "      <td>4749</td>\n",
       "      <td>0.576626</td>\n",
       "      <td>0.359263</td>\n",
       "      <td>0.039447</td>\n",
       "      <td>0.024664</td>\n",
       "    </tr>\n",
       "    <tr>\n",
       "      <th>2347</th>\n",
       "      <td>1638</td>\n",
       "      <td>0.789162</td>\n",
       "      <td>0.179732</td>\n",
       "      <td>0.010690</td>\n",
       "      <td>0.020416</td>\n",
       "    </tr>\n",
       "    <tr>\n",
       "      <th>2348</th>\n",
       "      <td>7724</td>\n",
       "      <td>0.261242</td>\n",
       "      <td>0.682060</td>\n",
       "      <td>0.011184</td>\n",
       "      <td>0.045514</td>\n",
       "    </tr>\n",
       "    <tr>\n",
       "      <th>2349</th>\n",
       "      <td>4124</td>\n",
       "      <td>0.246056</td>\n",
       "      <td>0.726299</td>\n",
       "      <td>0.004800</td>\n",
       "      <td>0.022845</td>\n",
       "    </tr>\n",
       "    <tr>\n",
       "      <th>2350</th>\n",
       "      <td>4479</td>\n",
       "      <td>0.304066</td>\n",
       "      <td>0.660368</td>\n",
       "      <td>0.008471</td>\n",
       "      <td>0.027095</td>\n",
       "    </tr>\n",
       "    <tr>\n",
       "      <th>2351</th>\n",
       "      <td>7845</td>\n",
       "      <td>0.495987</td>\n",
       "      <td>0.486635</td>\n",
       "      <td>0.007738</td>\n",
       "      <td>0.009639</td>\n",
       "    </tr>\n",
       "    <tr>\n",
       "      <th>2352</th>\n",
       "      <td>3810</td>\n",
       "      <td>0.286100</td>\n",
       "      <td>0.694158</td>\n",
       "      <td>0.005691</td>\n",
       "      <td>0.014052</td>\n",
       "    </tr>\n",
       "    <tr>\n",
       "      <th>2353</th>\n",
       "      <td>7290</td>\n",
       "      <td>0.000640</td>\n",
       "      <td>0.002150</td>\n",
       "      <td>0.206543</td>\n",
       "      <td>0.790667</td>\n",
       "    </tr>\n",
       "    <tr>\n",
       "      <th>2354</th>\n",
       "      <td>4108</td>\n",
       "      <td>0.408836</td>\n",
       "      <td>0.569960</td>\n",
       "      <td>0.008709</td>\n",
       "      <td>0.012495</td>\n",
       "    </tr>\n",
       "    <tr>\n",
       "      <th>2355</th>\n",
       "      <td>6331</td>\n",
       "      <td>0.203699</td>\n",
       "      <td>0.781056</td>\n",
       "      <td>0.007148</td>\n",
       "      <td>0.008097</td>\n",
       "    </tr>\n",
       "    <tr>\n",
       "      <th>2356</th>\n",
       "      <td>7699</td>\n",
       "      <td>0.002625</td>\n",
       "      <td>0.013466</td>\n",
       "      <td>0.092158</td>\n",
       "      <td>0.891751</td>\n",
       "    </tr>\n",
       "    <tr>\n",
       "      <th>2357</th>\n",
       "      <td>5541</td>\n",
       "      <td>0.279697</td>\n",
       "      <td>0.709172</td>\n",
       "      <td>0.002872</td>\n",
       "      <td>0.008259</td>\n",
       "    </tr>\n",
       "    <tr>\n",
       "      <th>2358</th>\n",
       "      <td>3678</td>\n",
       "      <td>0.360473</td>\n",
       "      <td>0.602579</td>\n",
       "      <td>0.016706</td>\n",
       "      <td>0.020242</td>\n",
       "    </tr>\n",
       "    <tr>\n",
       "      <th>2359</th>\n",
       "      <td>6885</td>\n",
       "      <td>0.251444</td>\n",
       "      <td>0.602731</td>\n",
       "      <td>0.057319</td>\n",
       "      <td>0.088506</td>\n",
       "    </tr>\n",
       "    <tr>\n",
       "      <th>2360</th>\n",
       "      <td>2245</td>\n",
       "      <td>0.336182</td>\n",
       "      <td>0.580663</td>\n",
       "      <td>0.025576</td>\n",
       "      <td>0.057579</td>\n",
       "    </tr>\n",
       "    <tr>\n",
       "      <th>2361</th>\n",
       "      <td>5651</td>\n",
       "      <td>0.732540</td>\n",
       "      <td>0.247297</td>\n",
       "      <td>0.006755</td>\n",
       "      <td>0.013407</td>\n",
       "    </tr>\n",
       "    <tr>\n",
       "      <th>2362</th>\n",
       "      <td>6463</td>\n",
       "      <td>0.128672</td>\n",
       "      <td>0.726358</td>\n",
       "      <td>0.029804</td>\n",
       "      <td>0.115166</td>\n",
       "    </tr>\n",
       "    <tr>\n",
       "      <th>2363</th>\n",
       "      <td>1508</td>\n",
       "      <td>0.203135</td>\n",
       "      <td>0.523467</td>\n",
       "      <td>0.067436</td>\n",
       "      <td>0.205962</td>\n",
       "    </tr>\n",
       "    <tr>\n",
       "      <th>2364</th>\n",
       "      <td>8385</td>\n",
       "      <td>0.584800</td>\n",
       "      <td>0.402727</td>\n",
       "      <td>0.003834</td>\n",
       "      <td>0.008638</td>\n",
       "    </tr>\n",
       "  </tbody>\n",
       "</table>\n",
       "<p>2365 rows × 5 columns</p>\n",
       "</div>"
      ],
      "text/plain": [
       "        ID  no_financial_services  other_only   mm_only   mm_plus\n",
       "0     3669               0.007967    0.026987  0.186923  0.778124\n",
       "1     5223               0.000539    0.007621  0.051026  0.940814\n",
       "2     7275               0.000286    0.001744  0.123701  0.874269\n",
       "3     7459               0.137329    0.812466  0.020944  0.029262\n",
       "4     3547               0.000253    0.000818  0.030565  0.968364\n",
       "5      888               0.082504    0.069427  0.386349  0.461721\n",
       "6      207               0.001352    0.001792  0.308786  0.688071\n",
       "7     5413               0.018314    0.025096  0.172294  0.784296\n",
       "8     5833               0.334078    0.396437  0.078061  0.191425\n",
       "9     9221               0.000474    0.002897  0.102317  0.894312\n",
       "10    2151               0.244221    0.560967  0.032139  0.162673\n",
       "11    7096               0.228004    0.734674  0.012081  0.025241\n",
       "12    2948               0.076131    0.053962  0.229805  0.640102\n",
       "13    3583               0.192715    0.739016  0.019801  0.048469\n",
       "14    2056               0.429910    0.530254  0.011960  0.027876\n",
       "15    3560               0.016447    0.039872  0.172661  0.771020\n",
       "16    6876               0.070763    0.046480  0.327990  0.554767\n",
       "17    6440               0.000352    0.003625  0.018977  0.977045\n",
       "18    6350               0.203459    0.723857  0.004009  0.068674\n",
       "19    4829               0.005344    0.006266  0.214510  0.773880\n",
       "20    9192               0.002565    0.004798  0.204153  0.788484\n",
       "21    4290               0.007333    0.010822  0.175140  0.806706\n",
       "22    8320               0.506982    0.397454  0.035920  0.059643\n",
       "23    9150               0.069618    0.209211  0.091456  0.629714\n",
       "24    3777               0.207886    0.669407  0.029964  0.092743\n",
       "25    7103               0.139743    0.702867  0.031080  0.126311\n",
       "26    4412               0.001510    0.004450  0.118129  0.875911\n",
       "27    4712               0.325900    0.644163  0.010068  0.019869\n",
       "28    7478               0.001211    0.003025  0.210179  0.785585\n",
       "29    6433               0.000380    0.000618  0.160424  0.838578\n",
       "...    ...                    ...         ...       ...       ...\n",
       "2335  4737               0.001827    0.004241  0.440511  0.553421\n",
       "2336  6589               0.572771    0.374942  0.026537  0.025750\n",
       "2337  9123               0.001478    0.001749  0.204176  0.792597\n",
       "2338   409               0.102565    0.053476  0.383895  0.460064\n",
       "2339  1734               0.658448    0.328408  0.008650  0.004493\n",
       "2340  1265               0.632717    0.286747  0.055035  0.025501\n",
       "2341  1290               0.738460    0.244514  0.006685  0.010341\n",
       "2342  6210               0.557384    0.380019  0.030300  0.032297\n",
       "2343  6093               0.574096    0.133527  0.184425  0.107952\n",
       "2344  4932               0.007895    0.005074  0.636045  0.350987\n",
       "2345  2791               0.697687    0.273906  0.014784  0.013623\n",
       "2346  4749               0.576626    0.359263  0.039447  0.024664\n",
       "2347  1638               0.789162    0.179732  0.010690  0.020416\n",
       "2348  7724               0.261242    0.682060  0.011184  0.045514\n",
       "2349  4124               0.246056    0.726299  0.004800  0.022845\n",
       "2350  4479               0.304066    0.660368  0.008471  0.027095\n",
       "2351  7845               0.495987    0.486635  0.007738  0.009639\n",
       "2352  3810               0.286100    0.694158  0.005691  0.014052\n",
       "2353  7290               0.000640    0.002150  0.206543  0.790667\n",
       "2354  4108               0.408836    0.569960  0.008709  0.012495\n",
       "2355  6331               0.203699    0.781056  0.007148  0.008097\n",
       "2356  7699               0.002625    0.013466  0.092158  0.891751\n",
       "2357  5541               0.279697    0.709172  0.002872  0.008259\n",
       "2358  3678               0.360473    0.602579  0.016706  0.020242\n",
       "2359  6885               0.251444    0.602731  0.057319  0.088506\n",
       "2360  2245               0.336182    0.580663  0.025576  0.057579\n",
       "2361  5651               0.732540    0.247297  0.006755  0.013407\n",
       "2362  6463               0.128672    0.726358  0.029804  0.115166\n",
       "2363  1508               0.203135    0.523467  0.067436  0.205962\n",
       "2364  8385               0.584800    0.402727  0.003834  0.008638\n",
       "\n",
       "[2365 rows x 5 columns]"
      ]
     },
     "execution_count": 171,
     "metadata": {},
     "output_type": "execute_result"
    }
   ],
   "source": [
    "df_predictions "
   ]
  },
  {
   "cell_type": "code",
   "execution_count": 58,
   "metadata": {
    "collapsed": true
   },
   "outputs": [],
   "source": [
    "#df_predictions = df_predictions.round(3)"
   ]
  },
  {
   "cell_type": "code",
   "execution_count": 81,
   "metadata": {
    "collapsed": true
   },
   "outputs": [],
   "source": [
    "df_predictions.to_csv('rank2.csv',index=False)"
   ]
  },
  {
   "cell_type": "code",
   "execution_count": 105,
   "metadata": {
    "collapsed": true
   },
   "outputs": [],
   "source": [
    "df_predictions.to_csv('rank3.csv',index=False)"
   ]
  },
  {
   "cell_type": "code",
   "execution_count": 172,
   "metadata": {
    "collapsed": true
   },
   "outputs": [],
   "source": [
    "df_predictions.to_csv('rank4.csv',index=False)"
   ]
  },
  {
   "cell_type": "code",
   "execution_count": 173,
   "metadata": {
    "collapsed": true
   },
   "outputs": [],
   "source": [
    "a = pd.read_csv('rank2.csv')"
   ]
  },
  {
   "cell_type": "code",
   "execution_count": 174,
   "metadata": {
    "collapsed": true
   },
   "outputs": [],
   "source": [
    "b = pd.read_csv('rank3.csv')\n",
    "c = pd.read_csv('rank4.csv')"
   ]
  },
  {
   "cell_type": "code",
   "execution_count": 175,
   "metadata": {
    "collapsed": false
   },
   "outputs": [],
   "source": [
    "a = a.drop('ID', axis=1)\n",
    "b = b.drop('ID', axis=1)\n",
    "c = c.drop('ID', axis=1)"
   ]
  },
  {
   "cell_type": "code",
   "execution_count": 176,
   "metadata": {
    "collapsed": false
   },
   "outputs": [],
   "source": [
    "stack = (0.7 * a + 0.1 * b + c * 0.2)"
   ]
  },
  {
   "cell_type": "code",
   "execution_count": 177,
   "metadata": {
    "collapsed": false
   },
   "outputs": [],
   "source": [
    "stack = stack.round(3)"
   ]
  },
  {
   "cell_type": "code",
   "execution_count": 178,
   "metadata": {
    "collapsed": true
   },
   "outputs": [],
   "source": [
    "stack['ID'] = test['ID']"
   ]
  },
  {
   "cell_type": "code",
   "execution_count": 179,
   "metadata": {
    "collapsed": false
   },
   "outputs": [
    {
     "data": {
      "text/html": [
       "<div>\n",
       "<table border=\"1\" class=\"dataframe\">\n",
       "  <thead>\n",
       "    <tr style=\"text-align: right;\">\n",
       "      <th></th>\n",
       "      <th>no_financial_services</th>\n",
       "      <th>other_only</th>\n",
       "      <th>mm_only</th>\n",
       "      <th>mm_plus</th>\n",
       "      <th>ID</th>\n",
       "    </tr>\n",
       "  </thead>\n",
       "  <tbody>\n",
       "    <tr>\n",
       "      <th>0</th>\n",
       "      <td>0.008</td>\n",
       "      <td>0.029</td>\n",
       "      <td>0.238</td>\n",
       "      <td>0.725</td>\n",
       "      <td>3669</td>\n",
       "    </tr>\n",
       "    <tr>\n",
       "      <th>1</th>\n",
       "      <td>0.000</td>\n",
       "      <td>0.006</td>\n",
       "      <td>0.049</td>\n",
       "      <td>0.945</td>\n",
       "      <td>5223</td>\n",
       "    </tr>\n",
       "    <tr>\n",
       "      <th>2</th>\n",
       "      <td>0.000</td>\n",
       "      <td>0.001</td>\n",
       "      <td>0.145</td>\n",
       "      <td>0.853</td>\n",
       "      <td>7275</td>\n",
       "    </tr>\n",
       "    <tr>\n",
       "      <th>3</th>\n",
       "      <td>0.162</td>\n",
       "      <td>0.791</td>\n",
       "      <td>0.017</td>\n",
       "      <td>0.030</td>\n",
       "      <td>7459</td>\n",
       "    </tr>\n",
       "    <tr>\n",
       "      <th>4</th>\n",
       "      <td>0.000</td>\n",
       "      <td>0.001</td>\n",
       "      <td>0.029</td>\n",
       "      <td>0.969</td>\n",
       "      <td>3547</td>\n",
       "    </tr>\n",
       "  </tbody>\n",
       "</table>\n",
       "</div>"
      ],
      "text/plain": [
       "   no_financial_services  other_only  mm_only  mm_plus    ID\n",
       "0                  0.008       0.029    0.238    0.725  3669\n",
       "1                  0.000       0.006    0.049    0.945  5223\n",
       "2                  0.000       0.001    0.145    0.853  7275\n",
       "3                  0.162       0.791    0.017    0.030  7459\n",
       "4                  0.000       0.001    0.029    0.969  3547"
      ]
     },
     "execution_count": 179,
     "metadata": {},
     "output_type": "execute_result"
    }
   ],
   "source": [
    "stack.head()"
   ]
  },
  {
   "cell_type": "code",
   "execution_count": 180,
   "metadata": {
    "collapsed": true
   },
   "outputs": [],
   "source": [
    "stack = stack[['ID', 'no_financial_services','other_only','mm_only','mm_plus']]"
   ]
  },
  {
   "cell_type": "code",
   "execution_count": 181,
   "metadata": {
    "collapsed": true
   },
   "outputs": [],
   "source": [
    "stack.to_csv('stk2.csv',index=False)"
   ]
  },
  {
   "cell_type": "code",
   "execution_count": null,
   "metadata": {
    "collapsed": true
   },
   "outputs": [],
   "source": []
  }
 ],
 "metadata": {
  "kernelspec": {
   "display_name": "Python 3",
   "language": "python",
   "name": "python3"
  },
  "language_info": {
   "codemirror_mode": {
    "name": "ipython",
    "version": 3
   },
   "file_extension": ".py",
   "mimetype": "text/x-python",
   "name": "python",
   "nbconvert_exporter": "python",
   "pygments_lexer": "ipython3",
   "version": "3.6.0"
  }
 },
 "nbformat": 4,
 "nbformat_minor": 2
}
